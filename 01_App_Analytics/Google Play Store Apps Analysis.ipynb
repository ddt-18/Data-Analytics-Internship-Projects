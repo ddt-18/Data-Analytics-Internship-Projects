{
 "cells": [
  {
   "cell_type": "markdown",
   "id": "eae4c7e5-d0b0-4150-9210-9e2ab83f6741",
   "metadata": {},
   "source": [
    "# 📱 **Google Play Store Apps Analysis**"
   ]
  },
  {
   "cell_type": "markdown",
   "id": "9fe201b5-1d12-4276-85a0-14a76210156a",
   "metadata": {},
   "source": [
    "**Author:** Dhaara Thakkar   "
   ]
  },
  {
   "cell_type": "markdown",
   "id": "aac83003-a114-435d-a8f0-86f00aac9200",
   "metadata": {},
   "source": [
    "## 📌 Project Objective\n",
    "\n",
    "To clean, transform, and analyze the Google Play Store dataset and uncover insights about app ratings, categories, installs, and pricing."
   ]
  },
  {
   "cell_type": "markdown",
   "id": "07646a25-9458-4c40-8ae2-622ec36c8ff6",
   "metadata": {},
   "source": [
    "## 🧾 Step 1: Import Libraries"
   ]
  },
  {
   "cell_type": "code",
   "execution_count": 5,
   "id": "9d41523b-a4a5-4c9f-9e91-4b995cbab3d8",
   "metadata": {},
   "outputs": [],
   "source": [
    "import pandas as pd\n",
    "import numpy as np\n",
    "import seaborn as sns\n",
    "import matplotlib.pyplot as plt\n",
    "%matplotlib inline"
   ]
  },
  {
   "cell_type": "markdown",
   "id": "415a91f4-a62b-4b21-8016-c40d55919e61",
   "metadata": {},
   "source": [
    "## 📂 Step 2: Load the Dataset"
   ]
  },
  {
   "cell_type": "code",
   "execution_count": 7,
   "id": "74d3ed66-9be3-44de-82d7-a7acaa14fe53",
   "metadata": {},
   "outputs": [],
   "source": [
    "df = pd.read_csv(r\"C:\\Users\\Admin\\Documents\\Projects\\Google Play Store Apps\\googleplaystore.csv\") #Update path as needed"
   ]
  },
  {
   "cell_type": "code",
   "execution_count": 8,
   "id": "5a63550f-84a5-4c33-8625-cb2bf53a6c61",
   "metadata": {},
   "outputs": [
    {
     "data": {
      "text/plain": [
       "(10841, 13)"
      ]
     },
     "execution_count": 8,
     "metadata": {},
     "output_type": "execute_result"
    }
   ],
   "source": [
    "df.shape"
   ]
  },
  {
   "cell_type": "code",
   "execution_count": 9,
   "id": "40181866-e62c-49f3-9545-1eab40c260ab",
   "metadata": {},
   "outputs": [
    {
     "data": {
      "text/html": [
       "<style type=\"text/css\">\n",
       "</style>\n",
       "<table id=\"T_71ff5\">\n",
       "  <thead>\n",
       "    <tr>\n",
       "      <th class=\"blank level0\" >&nbsp;</th>\n",
       "      <th id=\"T_71ff5_level0_col0\" class=\"col_heading level0 col0\" >App</th>\n",
       "      <th id=\"T_71ff5_level0_col1\" class=\"col_heading level0 col1\" >Category</th>\n",
       "      <th id=\"T_71ff5_level0_col2\" class=\"col_heading level0 col2\" >Rating</th>\n",
       "      <th id=\"T_71ff5_level0_col3\" class=\"col_heading level0 col3\" >Reviews</th>\n",
       "      <th id=\"T_71ff5_level0_col4\" class=\"col_heading level0 col4\" >Size</th>\n",
       "      <th id=\"T_71ff5_level0_col5\" class=\"col_heading level0 col5\" >Installs</th>\n",
       "      <th id=\"T_71ff5_level0_col6\" class=\"col_heading level0 col6\" >Type</th>\n",
       "      <th id=\"T_71ff5_level0_col7\" class=\"col_heading level0 col7\" >Price</th>\n",
       "      <th id=\"T_71ff5_level0_col8\" class=\"col_heading level0 col8\" >Content Rating</th>\n",
       "      <th id=\"T_71ff5_level0_col9\" class=\"col_heading level0 col9\" >Genres</th>\n",
       "      <th id=\"T_71ff5_level0_col10\" class=\"col_heading level0 col10\" >Last Updated</th>\n",
       "      <th id=\"T_71ff5_level0_col11\" class=\"col_heading level0 col11\" >Current Ver</th>\n",
       "      <th id=\"T_71ff5_level0_col12\" class=\"col_heading level0 col12\" >Android Ver</th>\n",
       "    </tr>\n",
       "  </thead>\n",
       "  <tbody>\n",
       "    <tr>\n",
       "      <th id=\"T_71ff5_level0_row0\" class=\"row_heading level0 row0\" >0</th>\n",
       "      <td id=\"T_71ff5_row0_col0\" class=\"data row0 col0\" >Photo Editor & Candy Camera & Grid & ScrapBook</td>\n",
       "      <td id=\"T_71ff5_row0_col1\" class=\"data row0 col1\" >ART_AND_DESIGN</td>\n",
       "      <td id=\"T_71ff5_row0_col2\" class=\"data row0 col2\" >4.100000</td>\n",
       "      <td id=\"T_71ff5_row0_col3\" class=\"data row0 col3\" >159</td>\n",
       "      <td id=\"T_71ff5_row0_col4\" class=\"data row0 col4\" >19M</td>\n",
       "      <td id=\"T_71ff5_row0_col5\" class=\"data row0 col5\" >10,000+</td>\n",
       "      <td id=\"T_71ff5_row0_col6\" class=\"data row0 col6\" >Free</td>\n",
       "      <td id=\"T_71ff5_row0_col7\" class=\"data row0 col7\" >0</td>\n",
       "      <td id=\"T_71ff5_row0_col8\" class=\"data row0 col8\" >Everyone</td>\n",
       "      <td id=\"T_71ff5_row0_col9\" class=\"data row0 col9\" >Art & Design</td>\n",
       "      <td id=\"T_71ff5_row0_col10\" class=\"data row0 col10\" >January 7, 2018</td>\n",
       "      <td id=\"T_71ff5_row0_col11\" class=\"data row0 col11\" >1.0.0</td>\n",
       "      <td id=\"T_71ff5_row0_col12\" class=\"data row0 col12\" >4.0.3 and up</td>\n",
       "    </tr>\n",
       "    <tr>\n",
       "      <th id=\"T_71ff5_level0_row1\" class=\"row_heading level0 row1\" >1</th>\n",
       "      <td id=\"T_71ff5_row1_col0\" class=\"data row1 col0\" >Coloring book moana</td>\n",
       "      <td id=\"T_71ff5_row1_col1\" class=\"data row1 col1\" >ART_AND_DESIGN</td>\n",
       "      <td id=\"T_71ff5_row1_col2\" class=\"data row1 col2\" >3.900000</td>\n",
       "      <td id=\"T_71ff5_row1_col3\" class=\"data row1 col3\" >967</td>\n",
       "      <td id=\"T_71ff5_row1_col4\" class=\"data row1 col4\" >14M</td>\n",
       "      <td id=\"T_71ff5_row1_col5\" class=\"data row1 col5\" >500,000+</td>\n",
       "      <td id=\"T_71ff5_row1_col6\" class=\"data row1 col6\" >Free</td>\n",
       "      <td id=\"T_71ff5_row1_col7\" class=\"data row1 col7\" >0</td>\n",
       "      <td id=\"T_71ff5_row1_col8\" class=\"data row1 col8\" >Everyone</td>\n",
       "      <td id=\"T_71ff5_row1_col9\" class=\"data row1 col9\" >Art & Design;Pretend Play</td>\n",
       "      <td id=\"T_71ff5_row1_col10\" class=\"data row1 col10\" >January 15, 2018</td>\n",
       "      <td id=\"T_71ff5_row1_col11\" class=\"data row1 col11\" >2.0.0</td>\n",
       "      <td id=\"T_71ff5_row1_col12\" class=\"data row1 col12\" >4.0.3 and up</td>\n",
       "    </tr>\n",
       "    <tr>\n",
       "      <th id=\"T_71ff5_level0_row2\" class=\"row_heading level0 row2\" >2</th>\n",
       "      <td id=\"T_71ff5_row2_col0\" class=\"data row2 col0\" >U Launcher Lite – FREE Live Cool Themes, Hide Apps</td>\n",
       "      <td id=\"T_71ff5_row2_col1\" class=\"data row2 col1\" >ART_AND_DESIGN</td>\n",
       "      <td id=\"T_71ff5_row2_col2\" class=\"data row2 col2\" >4.700000</td>\n",
       "      <td id=\"T_71ff5_row2_col3\" class=\"data row2 col3\" >87510</td>\n",
       "      <td id=\"T_71ff5_row2_col4\" class=\"data row2 col4\" >8.7M</td>\n",
       "      <td id=\"T_71ff5_row2_col5\" class=\"data row2 col5\" >5,000,000+</td>\n",
       "      <td id=\"T_71ff5_row2_col6\" class=\"data row2 col6\" >Free</td>\n",
       "      <td id=\"T_71ff5_row2_col7\" class=\"data row2 col7\" >0</td>\n",
       "      <td id=\"T_71ff5_row2_col8\" class=\"data row2 col8\" >Everyone</td>\n",
       "      <td id=\"T_71ff5_row2_col9\" class=\"data row2 col9\" >Art & Design</td>\n",
       "      <td id=\"T_71ff5_row2_col10\" class=\"data row2 col10\" >August 1, 2018</td>\n",
       "      <td id=\"T_71ff5_row2_col11\" class=\"data row2 col11\" >1.2.4</td>\n",
       "      <td id=\"T_71ff5_row2_col12\" class=\"data row2 col12\" >4.0.3 and up</td>\n",
       "    </tr>\n",
       "    <tr>\n",
       "      <th id=\"T_71ff5_level0_row3\" class=\"row_heading level0 row3\" >3</th>\n",
       "      <td id=\"T_71ff5_row3_col0\" class=\"data row3 col0\" >Sketch - Draw & Paint</td>\n",
       "      <td id=\"T_71ff5_row3_col1\" class=\"data row3 col1\" >ART_AND_DESIGN</td>\n",
       "      <td id=\"T_71ff5_row3_col2\" class=\"data row3 col2\" >4.500000</td>\n",
       "      <td id=\"T_71ff5_row3_col3\" class=\"data row3 col3\" >215644</td>\n",
       "      <td id=\"T_71ff5_row3_col4\" class=\"data row3 col4\" >25M</td>\n",
       "      <td id=\"T_71ff5_row3_col5\" class=\"data row3 col5\" >50,000,000+</td>\n",
       "      <td id=\"T_71ff5_row3_col6\" class=\"data row3 col6\" >Free</td>\n",
       "      <td id=\"T_71ff5_row3_col7\" class=\"data row3 col7\" >0</td>\n",
       "      <td id=\"T_71ff5_row3_col8\" class=\"data row3 col8\" >Teen</td>\n",
       "      <td id=\"T_71ff5_row3_col9\" class=\"data row3 col9\" >Art & Design</td>\n",
       "      <td id=\"T_71ff5_row3_col10\" class=\"data row3 col10\" >June 8, 2018</td>\n",
       "      <td id=\"T_71ff5_row3_col11\" class=\"data row3 col11\" >Varies with device</td>\n",
       "      <td id=\"T_71ff5_row3_col12\" class=\"data row3 col12\" >4.2 and up</td>\n",
       "    </tr>\n",
       "    <tr>\n",
       "      <th id=\"T_71ff5_level0_row4\" class=\"row_heading level0 row4\" >4</th>\n",
       "      <td id=\"T_71ff5_row4_col0\" class=\"data row4 col0\" >Pixel Draw - Number Art Coloring Book</td>\n",
       "      <td id=\"T_71ff5_row4_col1\" class=\"data row4 col1\" >ART_AND_DESIGN</td>\n",
       "      <td id=\"T_71ff5_row4_col2\" class=\"data row4 col2\" >4.300000</td>\n",
       "      <td id=\"T_71ff5_row4_col3\" class=\"data row4 col3\" >967</td>\n",
       "      <td id=\"T_71ff5_row4_col4\" class=\"data row4 col4\" >2.8M</td>\n",
       "      <td id=\"T_71ff5_row4_col5\" class=\"data row4 col5\" >100,000+</td>\n",
       "      <td id=\"T_71ff5_row4_col6\" class=\"data row4 col6\" >Free</td>\n",
       "      <td id=\"T_71ff5_row4_col7\" class=\"data row4 col7\" >0</td>\n",
       "      <td id=\"T_71ff5_row4_col8\" class=\"data row4 col8\" >Everyone</td>\n",
       "      <td id=\"T_71ff5_row4_col9\" class=\"data row4 col9\" >Art & Design;Creativity</td>\n",
       "      <td id=\"T_71ff5_row4_col10\" class=\"data row4 col10\" >June 20, 2018</td>\n",
       "      <td id=\"T_71ff5_row4_col11\" class=\"data row4 col11\" >1.1</td>\n",
       "      <td id=\"T_71ff5_row4_col12\" class=\"data row4 col12\" >4.4 and up</td>\n",
       "    </tr>\n",
       "  </tbody>\n",
       "</table>\n"
      ],
      "text/plain": [
       "<pandas.io.formats.style.Styler at 0x2165ee60d70>"
      ]
     },
     "execution_count": 9,
     "metadata": {},
     "output_type": "execute_result"
    }
   ],
   "source": [
    "df.head().style"
   ]
  },
  {
   "cell_type": "markdown",
   "id": "af072bef-494e-4d9c-9386-d9daa13f430b",
   "metadata": {},
   "source": [
    "## 🧼 Step 3: Data Cleaning"
   ]
  },
  {
   "cell_type": "markdown",
   "id": "ac0d7cc6-e3e3-4276-80e0-d0a9d22e8735",
   "metadata": {},
   "source": [
    "### 🔹 3.1: Initial Overview"
   ]
  },
  {
   "cell_type": "code",
   "execution_count": 12,
   "id": "fbf4d858-244a-4699-8e2f-0b1128a141aa",
   "metadata": {},
   "outputs": [
    {
     "name": "stdout",
     "output_type": "stream",
     "text": [
      "            Rating\n",
      "count  9367.000000\n",
      "mean      4.193338\n",
      "std       0.537431\n",
      "min       1.000000\n",
      "25%       4.000000\n",
      "50%       4.300000\n",
      "75%       4.500000\n",
      "max      19.000000\n"
     ]
    }
   ],
   "source": [
    "print(df.describe())"
   ]
  },
  {
   "cell_type": "markdown",
   "id": "e36544fa-d950-4407-9b08-0b586de865ec",
   "metadata": {},
   "source": [
    "**Observation:**  \n",
    "The maximum rating is 19.0 — but ratings on the Play Store should only go up to 5.\n",
    "\n",
    "✅ **Action Taken:**  \n",
    "Dropped the row using its index."
   ]
  },
  {
   "cell_type": "code",
   "execution_count": 14,
   "id": "883fa4a8-113c-41ec-b003-31c99d1b9a51",
   "metadata": {},
   "outputs": [
    {
     "name": "stdout",
     "output_type": "stream",
     "text": [
      "Index([10472], dtype='int64')\n"
     ]
    }
   ],
   "source": [
    "print(df[df['Rating'] == 19].index)"
   ]
  },
  {
   "cell_type": "code",
   "execution_count": 15,
   "id": "5a068e80-2941-4a9c-9fa6-f7521125bf22",
   "metadata": {},
   "outputs": [],
   "source": [
    "df = df.drop(df[df['Rating'] == 19].index)"
   ]
  },
  {
   "cell_type": "markdown",
   "id": "bb611ed4-d687-4270-90ec-bff7a2402899",
   "metadata": {},
   "source": [
    "### 🔹 3.2: Data Types & Structure"
   ]
  },
  {
   "cell_type": "code",
   "execution_count": 17,
   "id": "b54be49b-8c5c-4473-8f8b-85a04a4082f4",
   "metadata": {},
   "outputs": [
    {
     "name": "stdout",
     "output_type": "stream",
     "text": [
      "<class 'pandas.core.frame.DataFrame'>\n",
      "Index: 10840 entries, 0 to 10840\n",
      "Data columns (total 13 columns):\n",
      " #   Column          Non-Null Count  Dtype  \n",
      "---  ------          --------------  -----  \n",
      " 0   App             10840 non-null  object \n",
      " 1   Category        10840 non-null  object \n",
      " 2   Rating          9366 non-null   float64\n",
      " 3   Reviews         10840 non-null  object \n",
      " 4   Size            10840 non-null  object \n",
      " 5   Installs        10840 non-null  object \n",
      " 6   Type            10839 non-null  object \n",
      " 7   Price           10840 non-null  object \n",
      " 8   Content Rating  10840 non-null  object \n",
      " 9   Genres          10840 non-null  object \n",
      " 10  Last Updated    10840 non-null  object \n",
      " 11  Current Ver     10832 non-null  object \n",
      " 12  Android Ver     10838 non-null  object \n",
      "dtypes: float64(1), object(12)\n",
      "memory usage: 1.2+ MB\n",
      "None\n"
     ]
    }
   ],
   "source": [
    "print(df.info())"
   ]
  },
  {
   "cell_type": "code",
   "execution_count": 18,
   "id": "dee4b81f-d208-4e1e-b3f0-3b5faf2744a0",
   "metadata": {},
   "outputs": [],
   "source": [
    "df['Installs'] = df['Installs'].str.replace('[+,]', '', regex = True).astype(int)"
   ]
  },
  {
   "cell_type": "code",
   "execution_count": 19,
   "id": "0093bea7-e4d3-4139-ab94-62aa30055a4f",
   "metadata": {},
   "outputs": [],
   "source": [
    "df['Price'] = df['Price'].str.replace('$', '', regex=False).astype(float)"
   ]
  },
  {
   "cell_type": "code",
   "execution_count": 20,
   "id": "90e70323-e10b-46e6-849a-cb65480fb1bd",
   "metadata": {},
   "outputs": [],
   "source": [
    "df['Reviews'] = df['Reviews'].astype(int)"
   ]
  },
  {
   "cell_type": "markdown",
   "id": "8296810e-3f47-4814-bda2-0eccffa1f37e",
   "metadata": {},
   "source": [
    "### 🔹 3.3: Duplicate Values"
   ]
  },
  {
   "cell_type": "code",
   "execution_count": 22,
   "id": "1e62fe57-875d-4d83-871b-c253e0d01696",
   "metadata": {},
   "outputs": [
    {
     "name": "stdout",
     "output_type": "stream",
     "text": [
      "Duplicate rows: 483\n"
     ]
    }
   ],
   "source": [
    "print(f\"Duplicate rows: {df.duplicated().sum()}\")"
   ]
  },
  {
   "cell_type": "code",
   "execution_count": 23,
   "id": "05b20ff7-8ea6-49f7-8338-ef6d67667e9b",
   "metadata": {},
   "outputs": [],
   "source": [
    "df.drop_duplicates(inplace=True)"
   ]
  },
  {
   "cell_type": "markdown",
   "id": "72b71f04-b5fb-49d3-987f-7ef7bb7f9ea9",
   "metadata": {},
   "source": [
    "### 🔹 3.4: Missing Values"
   ]
  },
  {
   "cell_type": "markdown",
   "id": "910265eb-273f-47fa-8aa1-f32766f50ef2",
   "metadata": {},
   "source": [
    "#### Handling Missing Values in Rating"
   ]
  },
  {
   "cell_type": "code",
   "execution_count": 26,
   "id": "27a7b184-601a-4f79-ac4f-f57190984938",
   "metadata": {},
   "outputs": [
    {
     "name": "stdout",
     "output_type": "stream",
     "text": [
      "App                  0\n",
      "Category             0\n",
      "Rating            1465\n",
      "Reviews              0\n",
      "Size                 0\n",
      "Installs             0\n",
      "Type                 1\n",
      "Price                0\n",
      "Content Rating       0\n",
      "Genres               0\n",
      "Last Updated         0\n",
      "Current Ver          8\n",
      "Android Ver          2\n",
      "dtype: int64\n"
     ]
    }
   ],
   "source": [
    "print(df.isnull().sum())"
   ]
  },
  {
   "cell_type": "markdown",
   "id": "ba5c5ed7-6b71-4722-a036-e038cbfc289b",
   "metadata": {},
   "source": [
    "We noticed several missing values in the `Rating` column.  \n",
    "Instead of dropping them, we filled them using the **mean rating of similar apps grouped by binned `Installs`**.\n",
    "\n",
    "To do that, we first created an `Installs_category` column:"
   ]
  },
  {
   "cell_type": "code",
   "execution_count": 28,
   "id": "cc9f6e5b-d651-4ef9-995e-09c5fd21013e",
   "metadata": {},
   "outputs": [],
   "source": [
    "bins = [-1, 0, 10, 1000, 10000, 100000, 1000000, 10000000, 10000000000]\n",
    "labels = ['no', 'Very low', 'Low', 'Moderate', 'More than moderate', 'High', 'Very high', 'Top Notch']\n",
    "df['Installs_category'] = pd.cut(df['Installs'], bins = bins, labels  = labels)"
   ]
  },
  {
   "cell_type": "markdown",
   "id": "a4fec206-145b-4ba9-b517-285b2f14af46",
   "metadata": {},
   "source": [
    "Then, we filled the missing values in `Rating` using the **grouped mean** of these install categories:"
   ]
  },
  {
   "cell_type": "code",
   "execution_count": 30,
   "id": "f405671d-b749-4685-9c25-7fcf858e6892",
   "metadata": {},
   "outputs": [],
   "source": [
    "df['Rating'] = df.groupby('Installs_category', observed = True)['Rating'].transform(lambda x: x.fillna(x.mean()))"
   ]
  },
  {
   "cell_type": "code",
   "execution_count": 31,
   "id": "f0828a87-5bf9-4476-9a8b-32e28ea1da71",
   "metadata": {},
   "outputs": [
    {
     "name": "stdout",
     "output_type": "stream",
     "text": [
      "App                   0\n",
      "Category              0\n",
      "Rating               15\n",
      "Reviews               0\n",
      "Size                  0\n",
      "Installs              0\n",
      "Type                  1\n",
      "Price                 0\n",
      "Content Rating        0\n",
      "Genres                0\n",
      "Last Updated          0\n",
      "Current Ver           8\n",
      "Android Ver           2\n",
      "Installs_category     0\n",
      "dtype: int64\n"
     ]
    }
   ],
   "source": [
    "print(df.isnull().sum())"
   ]
  },
  {
   "cell_type": "markdown",
   "id": "9b004e47-453d-47e0-90ba-cff9570d18e8",
   "metadata": {},
   "source": [
    "After filling missing values in the `Rating` column using group-wise means from `Installs_category`,  \n",
    "we found that **15 rows still had NaN values** in `Rating`."
   ]
  },
  {
   "cell_type": "markdown",
   "id": "c699dd85-1f75-4999-8224-6431e605b0d3",
   "metadata": {},
   "source": [
    "We found that these remaining rows all fell under the 'no' install category — i.e., apps with 0 installs."
   ]
  },
  {
   "cell_type": "code",
   "execution_count": 34,
   "id": "4fe3cd6c-fff9-4197-858d-17012a94b527",
   "metadata": {},
   "outputs": [
    {
     "data": {
      "text/plain": [
       "Installs_category\n",
       "no                    15\n",
       "Very low               0\n",
       "Low                    0\n",
       "Moderate               0\n",
       "More than moderate     0\n",
       "High                   0\n",
       "Very high              0\n",
       "Top Notch              0\n",
       "Name: count, dtype: int64"
      ]
     },
     "execution_count": 34,
     "metadata": {},
     "output_type": "execute_result"
    }
   ],
   "source": [
    "df[df['Rating'].isna()]['Installs_category'].value_counts()"
   ]
  },
  {
   "cell_type": "code",
   "execution_count": 35,
   "id": "f3cb863a-2945-48ab-90d7-003439dbd6f1",
   "metadata": {},
   "outputs": [
    {
     "data": {
      "text/html": [
       "<div>\n",
       "<style scoped>\n",
       "    .dataframe tbody tr th:only-of-type {\n",
       "        vertical-align: middle;\n",
       "    }\n",
       "\n",
       "    .dataframe tbody tr th {\n",
       "        vertical-align: top;\n",
       "    }\n",
       "\n",
       "    .dataframe thead th {\n",
       "        text-align: right;\n",
       "    }\n",
       "</style>\n",
       "<table border=\"1\" class=\"dataframe\">\n",
       "  <thead>\n",
       "    <tr style=\"text-align: right;\">\n",
       "      <th></th>\n",
       "      <th>App</th>\n",
       "      <th>Category</th>\n",
       "      <th>Rating</th>\n",
       "      <th>Reviews</th>\n",
       "      <th>Size</th>\n",
       "      <th>Installs</th>\n",
       "      <th>Type</th>\n",
       "      <th>Price</th>\n",
       "      <th>Content Rating</th>\n",
       "      <th>Genres</th>\n",
       "      <th>Last Updated</th>\n",
       "      <th>Current Ver</th>\n",
       "      <th>Android Ver</th>\n",
       "      <th>Installs_category</th>\n",
       "    </tr>\n",
       "  </thead>\n",
       "  <tbody>\n",
       "    <tr>\n",
       "      <th>4465</th>\n",
       "      <td>Popsicle Launcher for Android P 9.0 launcher</td>\n",
       "      <td>PERSONALIZATION</td>\n",
       "      <td>NaN</td>\n",
       "      <td>0</td>\n",
       "      <td>5.5M</td>\n",
       "      <td>0</td>\n",
       "      <td>Paid</td>\n",
       "      <td>1.49</td>\n",
       "      <td>Everyone</td>\n",
       "      <td>Personalization</td>\n",
       "      <td>July 11, 2018</td>\n",
       "      <td>1.1</td>\n",
       "      <td>4.2 and up</td>\n",
       "      <td>no</td>\n",
       "    </tr>\n",
       "    <tr>\n",
       "      <th>5307</th>\n",
       "      <td>Ak Parti Yardım Toplama</td>\n",
       "      <td>SOCIAL</td>\n",
       "      <td>NaN</td>\n",
       "      <td>0</td>\n",
       "      <td>8.7M</td>\n",
       "      <td>0</td>\n",
       "      <td>Paid</td>\n",
       "      <td>13.99</td>\n",
       "      <td>Teen</td>\n",
       "      <td>Social</td>\n",
       "      <td>July 28, 2017</td>\n",
       "      <td>3.4.4.3.3</td>\n",
       "      <td>4.1 and up</td>\n",
       "      <td>no</td>\n",
       "    </tr>\n",
       "    <tr>\n",
       "      <th>5486</th>\n",
       "      <td>AP Series Solution Pro</td>\n",
       "      <td>FAMILY</td>\n",
       "      <td>NaN</td>\n",
       "      <td>0</td>\n",
       "      <td>7.4M</td>\n",
       "      <td>0</td>\n",
       "      <td>Paid</td>\n",
       "      <td>1.99</td>\n",
       "      <td>Everyone</td>\n",
       "      <td>Education</td>\n",
       "      <td>July 30, 2017</td>\n",
       "      <td>1.3</td>\n",
       "      <td>4.0 and up</td>\n",
       "      <td>no</td>\n",
       "    </tr>\n",
       "    <tr>\n",
       "      <th>5945</th>\n",
       "      <td>Ain Arabic Kids Alif Ba ta</td>\n",
       "      <td>FAMILY</td>\n",
       "      <td>NaN</td>\n",
       "      <td>0</td>\n",
       "      <td>33M</td>\n",
       "      <td>0</td>\n",
       "      <td>Paid</td>\n",
       "      <td>2.99</td>\n",
       "      <td>Everyone</td>\n",
       "      <td>Education</td>\n",
       "      <td>April 15, 2016</td>\n",
       "      <td>1.0</td>\n",
       "      <td>3.0 and up</td>\n",
       "      <td>no</td>\n",
       "    </tr>\n",
       "    <tr>\n",
       "      <th>6692</th>\n",
       "      <td>cronometra-br</td>\n",
       "      <td>PRODUCTIVITY</td>\n",
       "      <td>NaN</td>\n",
       "      <td>0</td>\n",
       "      <td>5.4M</td>\n",
       "      <td>0</td>\n",
       "      <td>Paid</td>\n",
       "      <td>154.99</td>\n",
       "      <td>Everyone</td>\n",
       "      <td>Productivity</td>\n",
       "      <td>November 24, 2017</td>\n",
       "      <td>1.0.0</td>\n",
       "      <td>4.1 and up</td>\n",
       "      <td>no</td>\n",
       "    </tr>\n",
       "    <tr>\n",
       "      <th>7434</th>\n",
       "      <td>Pekalongan CJ</td>\n",
       "      <td>SOCIAL</td>\n",
       "      <td>NaN</td>\n",
       "      <td>0</td>\n",
       "      <td>5.9M</td>\n",
       "      <td>0</td>\n",
       "      <td>Free</td>\n",
       "      <td>0.00</td>\n",
       "      <td>Teen</td>\n",
       "      <td>Social</td>\n",
       "      <td>July 21, 2018</td>\n",
       "      <td>0.0.1</td>\n",
       "      <td>4.4 and up</td>\n",
       "      <td>no</td>\n",
       "    </tr>\n",
       "    <tr>\n",
       "      <th>8081</th>\n",
       "      <td>CX Network</td>\n",
       "      <td>BUSINESS</td>\n",
       "      <td>NaN</td>\n",
       "      <td>0</td>\n",
       "      <td>10M</td>\n",
       "      <td>0</td>\n",
       "      <td>Free</td>\n",
       "      <td>0.00</td>\n",
       "      <td>Everyone</td>\n",
       "      <td>Business</td>\n",
       "      <td>August 6, 2018</td>\n",
       "      <td>1.3.1</td>\n",
       "      <td>4.1 and up</td>\n",
       "      <td>no</td>\n",
       "    </tr>\n",
       "    <tr>\n",
       "      <th>8614</th>\n",
       "      <td>Sweden Newspapers</td>\n",
       "      <td>NEWS_AND_MAGAZINES</td>\n",
       "      <td>NaN</td>\n",
       "      <td>0</td>\n",
       "      <td>2.1M</td>\n",
       "      <td>0</td>\n",
       "      <td>Free</td>\n",
       "      <td>0.00</td>\n",
       "      <td>Everyone</td>\n",
       "      <td>News &amp; Magazines</td>\n",
       "      <td>July 7, 2018</td>\n",
       "      <td>1.1</td>\n",
       "      <td>4.4 and up</td>\n",
       "      <td>no</td>\n",
       "    </tr>\n",
       "    <tr>\n",
       "      <th>8871</th>\n",
       "      <td>Test Application DT 02</td>\n",
       "      <td>ART_AND_DESIGN</td>\n",
       "      <td>NaN</td>\n",
       "      <td>0</td>\n",
       "      <td>1.2M</td>\n",
       "      <td>0</td>\n",
       "      <td>Free</td>\n",
       "      <td>0.00</td>\n",
       "      <td>Everyone</td>\n",
       "      <td>Art &amp; Design</td>\n",
       "      <td>March 14, 2017</td>\n",
       "      <td>4.0</td>\n",
       "      <td>4.2 and up</td>\n",
       "      <td>no</td>\n",
       "    </tr>\n",
       "    <tr>\n",
       "      <th>9148</th>\n",
       "      <td>Command &amp; Conquer: Rivals</td>\n",
       "      <td>FAMILY</td>\n",
       "      <td>NaN</td>\n",
       "      <td>0</td>\n",
       "      <td>Varies with device</td>\n",
       "      <td>0</td>\n",
       "      <td>NaN</td>\n",
       "      <td>0.00</td>\n",
       "      <td>Everyone 10+</td>\n",
       "      <td>Strategy</td>\n",
       "      <td>June 28, 2018</td>\n",
       "      <td>Varies with device</td>\n",
       "      <td>Varies with device</td>\n",
       "      <td>no</td>\n",
       "    </tr>\n",
       "    <tr>\n",
       "      <th>9337</th>\n",
       "      <td>EG | Explore Folegandros</td>\n",
       "      <td>TRAVEL_AND_LOCAL</td>\n",
       "      <td>NaN</td>\n",
       "      <td>0</td>\n",
       "      <td>56M</td>\n",
       "      <td>0</td>\n",
       "      <td>Paid</td>\n",
       "      <td>3.99</td>\n",
       "      <td>Everyone</td>\n",
       "      <td>Travel &amp; Local</td>\n",
       "      <td>January 22, 2017</td>\n",
       "      <td>1.1.1</td>\n",
       "      <td>4.1 and up</td>\n",
       "      <td>no</td>\n",
       "    </tr>\n",
       "    <tr>\n",
       "      <th>9719</th>\n",
       "      <td>EP Cook Book</td>\n",
       "      <td>MEDICAL</td>\n",
       "      <td>NaN</td>\n",
       "      <td>0</td>\n",
       "      <td>3.2M</td>\n",
       "      <td>0</td>\n",
       "      <td>Paid</td>\n",
       "      <td>200.00</td>\n",
       "      <td>Everyone</td>\n",
       "      <td>Medical</td>\n",
       "      <td>July 26, 2015</td>\n",
       "      <td>1.0</td>\n",
       "      <td>3.0 and up</td>\n",
       "      <td>no</td>\n",
       "    </tr>\n",
       "    <tr>\n",
       "      <th>9905</th>\n",
       "      <td>Eu sou Rico</td>\n",
       "      <td>FINANCE</td>\n",
       "      <td>NaN</td>\n",
       "      <td>0</td>\n",
       "      <td>2.6M</td>\n",
       "      <td>0</td>\n",
       "      <td>Paid</td>\n",
       "      <td>30.99</td>\n",
       "      <td>Everyone</td>\n",
       "      <td>Finance</td>\n",
       "      <td>January 9, 2018</td>\n",
       "      <td>1.0</td>\n",
       "      <td>4.0 and up</td>\n",
       "      <td>no</td>\n",
       "    </tr>\n",
       "    <tr>\n",
       "      <th>9917</th>\n",
       "      <td>Eu Sou Rico</td>\n",
       "      <td>FINANCE</td>\n",
       "      <td>NaN</td>\n",
       "      <td>0</td>\n",
       "      <td>1.4M</td>\n",
       "      <td>0</td>\n",
       "      <td>Paid</td>\n",
       "      <td>394.99</td>\n",
       "      <td>Everyone</td>\n",
       "      <td>Finance</td>\n",
       "      <td>July 11, 2018</td>\n",
       "      <td>1.0</td>\n",
       "      <td>4.0.3 and up</td>\n",
       "      <td>no</td>\n",
       "    </tr>\n",
       "    <tr>\n",
       "      <th>9934</th>\n",
       "      <td>I'm Rich/Eu sou Rico/أنا غني/我很有錢</td>\n",
       "      <td>LIFESTYLE</td>\n",
       "      <td>NaN</td>\n",
       "      <td>0</td>\n",
       "      <td>40M</td>\n",
       "      <td>0</td>\n",
       "      <td>Paid</td>\n",
       "      <td>399.99</td>\n",
       "      <td>Everyone</td>\n",
       "      <td>Lifestyle</td>\n",
       "      <td>December 1, 2017</td>\n",
       "      <td>MONEY</td>\n",
       "      <td>4.1 and up</td>\n",
       "      <td>no</td>\n",
       "    </tr>\n",
       "  </tbody>\n",
       "</table>\n",
       "</div>"
      ],
      "text/plain": [
       "                                               App            Category  \\\n",
       "4465  Popsicle Launcher for Android P 9.0 launcher     PERSONALIZATION   \n",
       "5307                       Ak Parti Yardım Toplama              SOCIAL   \n",
       "5486                        AP Series Solution Pro              FAMILY   \n",
       "5945                    Ain Arabic Kids Alif Ba ta              FAMILY   \n",
       "6692                                 cronometra-br        PRODUCTIVITY   \n",
       "7434                                 Pekalongan CJ              SOCIAL   \n",
       "8081                                    CX Network            BUSINESS   \n",
       "8614                             Sweden Newspapers  NEWS_AND_MAGAZINES   \n",
       "8871                        Test Application DT 02      ART_AND_DESIGN   \n",
       "9148                     Command & Conquer: Rivals              FAMILY   \n",
       "9337                      EG | Explore Folegandros    TRAVEL_AND_LOCAL   \n",
       "9719                                  EP Cook Book             MEDICAL   \n",
       "9905                                   Eu sou Rico             FINANCE   \n",
       "9917                                   Eu Sou Rico             FINANCE   \n",
       "9934             I'm Rich/Eu sou Rico/أنا غني/我很有錢           LIFESTYLE   \n",
       "\n",
       "      Rating  Reviews                Size  Installs  Type   Price  \\\n",
       "4465     NaN        0                5.5M         0  Paid    1.49   \n",
       "5307     NaN        0                8.7M         0  Paid   13.99   \n",
       "5486     NaN        0                7.4M         0  Paid    1.99   \n",
       "5945     NaN        0                 33M         0  Paid    2.99   \n",
       "6692     NaN        0                5.4M         0  Paid  154.99   \n",
       "7434     NaN        0                5.9M         0  Free    0.00   \n",
       "8081     NaN        0                 10M         0  Free    0.00   \n",
       "8614     NaN        0                2.1M         0  Free    0.00   \n",
       "8871     NaN        0                1.2M         0  Free    0.00   \n",
       "9148     NaN        0  Varies with device         0   NaN    0.00   \n",
       "9337     NaN        0                 56M         0  Paid    3.99   \n",
       "9719     NaN        0                3.2M         0  Paid  200.00   \n",
       "9905     NaN        0                2.6M         0  Paid   30.99   \n",
       "9917     NaN        0                1.4M         0  Paid  394.99   \n",
       "9934     NaN        0                 40M         0  Paid  399.99   \n",
       "\n",
       "     Content Rating            Genres       Last Updated         Current Ver  \\\n",
       "4465       Everyone   Personalization      July 11, 2018                 1.1   \n",
       "5307           Teen            Social      July 28, 2017           3.4.4.3.3   \n",
       "5486       Everyone         Education      July 30, 2017                 1.3   \n",
       "5945       Everyone         Education     April 15, 2016                 1.0   \n",
       "6692       Everyone      Productivity  November 24, 2017               1.0.0   \n",
       "7434           Teen            Social      July 21, 2018               0.0.1   \n",
       "8081       Everyone          Business     August 6, 2018               1.3.1   \n",
       "8614       Everyone  News & Magazines       July 7, 2018                 1.1   \n",
       "8871       Everyone      Art & Design     March 14, 2017                 4.0   \n",
       "9148   Everyone 10+          Strategy      June 28, 2018  Varies with device   \n",
       "9337       Everyone    Travel & Local   January 22, 2017               1.1.1   \n",
       "9719       Everyone           Medical      July 26, 2015                 1.0   \n",
       "9905       Everyone           Finance    January 9, 2018                 1.0   \n",
       "9917       Everyone           Finance      July 11, 2018                 1.0   \n",
       "9934       Everyone         Lifestyle   December 1, 2017               MONEY   \n",
       "\n",
       "             Android Ver Installs_category  \n",
       "4465          4.2 and up                no  \n",
       "5307          4.1 and up                no  \n",
       "5486          4.0 and up                no  \n",
       "5945          3.0 and up                no  \n",
       "6692          4.1 and up                no  \n",
       "7434          4.4 and up                no  \n",
       "8081          4.1 and up                no  \n",
       "8614          4.4 and up                no  \n",
       "8871          4.2 and up                no  \n",
       "9148  Varies with device                no  \n",
       "9337          4.1 and up                no  \n",
       "9719          3.0 and up                no  \n",
       "9905          4.0 and up                no  \n",
       "9917        4.0.3 and up                no  \n",
       "9934          4.1 and up                no  "
      ]
     },
     "execution_count": 35,
     "metadata": {},
     "output_type": "execute_result"
    }
   ],
   "source": [
    "df[(df['Installs_category'] == 'no') & (df['Rating'].isna())]"
   ]
  },
  {
   "cell_type": "markdown",
   "id": "0dcab0bc-8475-49aa-863f-98784d3b761c",
   "metadata": {},
   "source": [
    "Since apps with 0 installs are not used or rated by anyone, they offer no analytical value,\n",
    "so we decided to drop these rows from the dataset."
   ]
  },
  {
   "cell_type": "code",
   "execution_count": 37,
   "id": "f9b55932-c09b-499d-a8cf-ae8ee3aa8963",
   "metadata": {},
   "outputs": [],
   "source": [
    "df = df[df['Installs'] > 0]"
   ]
  },
  {
   "cell_type": "markdown",
   "id": "31863edd-012b-4a38-908b-12dc5c50900b",
   "metadata": {},
   "source": [
    "#### Handling Missing Values in Other Columns"
   ]
  },
  {
   "cell_type": "code",
   "execution_count": 39,
   "id": "2d57ccc9-75a8-4f64-8b8f-ad1ba0f0f550",
   "metadata": {},
   "outputs": [],
   "source": [
    "df.dropna(subset=['Current Ver', 'Android Ver', 'Type'],inplace = True)"
   ]
  },
  {
   "cell_type": "code",
   "execution_count": 40,
   "id": "a89e6b6b-e7da-47d3-9bed-681baf76777e",
   "metadata": {},
   "outputs": [
    {
     "name": "stdout",
     "output_type": "stream",
     "text": [
      "App                  0\n",
      "Category             0\n",
      "Rating               0\n",
      "Reviews              0\n",
      "Size                 0\n",
      "Installs             0\n",
      "Type                 0\n",
      "Price                0\n",
      "Content Rating       0\n",
      "Genres               0\n",
      "Last Updated         0\n",
      "Current Ver          0\n",
      "Android Ver          0\n",
      "Installs_category    0\n",
      "dtype: int64\n"
     ]
    }
   ],
   "source": [
    "print(df.isnull().sum())"
   ]
  },
  {
   "cell_type": "markdown",
   "id": "eec57db2-b9c9-465f-a5fe-7992d78de939",
   "metadata": {},
   "source": [
    "## 🔄 Step 4: Feature Engineering"
   ]
  },
  {
   "cell_type": "markdown",
   "id": "8d6933ef-4332-45ea-b84c-74e7feb91d10",
   "metadata": {},
   "source": [
    "### 🔹 Create Size_MB Feauture from Raw 'Size' Column\n",
    "\n",
    "The `Size` column originally contains inconsistent string values like `\"19M\"`, `\"14k\"`, and `\"Varies with device\"`.  \n",
    "To analyze app sizes effectively, we converted these to numeric format in **bytes**, and then to **megabytes (MB)** for readability.\n",
    "\n",
    "✅ This makes the data usable for comparisons, distributions, and visualizations."
   ]
  },
  {
   "cell_type": "code",
   "execution_count": 43,
   "id": "6d286088-c732-4c43-ba4f-2696386da568",
   "metadata": {},
   "outputs": [
    {
     "data": {
      "text/plain": [
       "Size\n",
       "Varies with device    1525\n",
       "11M                    187\n",
       "12M                    186\n",
       "13M                    186\n",
       "14M                    181\n",
       "                      ... \n",
       "721k                     1\n",
       "430k                     1\n",
       "429k                     1\n",
       "200k                     1\n",
       "619k                     1\n",
       "Name: count, Length: 457, dtype: int64"
      ]
     },
     "execution_count": 43,
     "metadata": {},
     "output_type": "execute_result"
    }
   ],
   "source": [
    "df['Size'].value_counts()"
   ]
  },
  {
   "cell_type": "code",
   "execution_count": 44,
   "id": "b4f06989-e701-43d0-8613-322c5d9ecd8d",
   "metadata": {},
   "outputs": [],
   "source": [
    "def convert_size_to_bytes(size):\n",
    "    if isinstance(size, str):\n",
    "        if 'k' in size:\n",
    "            return float(size.replace(\"k\", \"\")) * 1024\n",
    "        elif 'M' in size:\n",
    "            return float(size.replace(\"M\", \"\")) * 1024 * 1024\n",
    "        elif 'Varies with device' in size:\n",
    "            return np.nan\n",
    "    return size\n",
    "\n",
    "df['Size_in_bytes'] = df['Size'].apply(convert_size_to_bytes)\n",
    "df['Size_MB'] = df['Size_in_bytes'] / (1024 * 1024)"
   ]
  },
  {
   "cell_type": "markdown",
   "id": "7f08c60a-eae0-4ccf-8fbd-26c55e5d25a7",
   "metadata": {},
   "source": [
    "We earlier created `Installs_category` for imputation,  \n",
    "but it also helps simplify analysis and visualize trends across install ranges."
   ]
  },
  {
   "cell_type": "code",
   "execution_count": 46,
   "id": "d4b4a4cd-b1fd-4ae1-9937-74a475619215",
   "metadata": {},
   "outputs": [],
   "source": [
    "df.to_csv('C:/Users/Admin/Documents/Projects/googleplaystore_cleaned.csv', index=False)"
   ]
  },
  {
   "cell_type": "markdown",
   "id": "eb407f8a-b8e7-466d-adb6-4176980abd5b",
   "metadata": {},
   "source": [
    "## 📊 Step 5: Exploratory Data Analysis"
   ]
  },
  {
   "cell_type": "markdown",
   "id": "eb00281c-ed36-48cb-8f44-afe416f2ccb1",
   "metadata": {},
   "source": [
    "### 🔹 Distribution of Ratings"
   ]
  },
  {
   "cell_type": "code",
   "execution_count": 49,
   "id": "316796eb-09cd-4a1f-bd86-63744e921a1e",
   "metadata": {},
   "outputs": [
    {
     "data": {
      "image/png": "[encoded data removed]",
      "text/plain": [
       "<Figure size 600x400 with 1 Axes>"
      ]
     },
     "metadata": {},
     "output_type": "display_data"
    }
   ],
   "source": [
    "plt.figure(figsize=(6, 4))  \n",
    "sns.histplot(df['Rating'], bins=20, kde=True, color='skyblue', edgecolor='black')\n",
    "\n",
    "plt.title(\"Distribution of App Ratings\")\n",
    "plt.xlabel(\"Rating\")\n",
    "plt.ylabel(\"Number of Apps\")  \n",
    "\n",
    "plt.tight_layout()\n",
    "plt.show()"
   ]
  },
  {
   "cell_type": "markdown",
   "id": "27d91043-a99c-4cc4-a971-d0cf57bdd132",
   "metadata": {},
   "source": [
    "### 🔹 Most Common Categories"
   ]
  },
  {
   "cell_type": "code",
   "execution_count": 51,
   "id": "b84714b0-4b03-48b5-8379-4049bddcfc3b",
   "metadata": {},
   "outputs": [
    {
     "data": {
      "image/png": "[encoded data removed]",
      "text/plain": [
       "<Figure size 1000x300 with 1 Axes>"
      ]
     },
     "metadata": {},
     "output_type": "display_data"
    }
   ],
   "source": [
    "plt.figure(figsize=(10, 3))\n",
    "ax = sns.countplot(y='Category', data=df, order=df['Category'].value_counts().head(10).index)\n",
    "\n",
    "ax.bar_label(ax.containers[0], label_type='edge')  \n",
    "\n",
    "plt.title(\"Count of Apps by Category\")\n",
    "plt.xlabel(\"Number of Apps\")\n",
    "plt.ylabel(\"App Category\")\n",
    "plt.tight_layout()\n",
    "plt.show()"
   ]
  },
  {
   "cell_type": "markdown",
   "id": "e9ae013f-61c5-41fe-a958-c2715715b974",
   "metadata": {},
   "source": [
    "### 🔹 Free vs Paid Apps"
   ]
  },
  {
   "cell_type": "code",
   "execution_count": 53,
   "id": "85becc28-7784-4254-abf2-84099dc22041",
   "metadata": {},
   "outputs": [
    {
     "data": {
      "image/png": "[encoded data removed]",
      "text/plain": [
       "<Figure size 640x480 with 1 Axes>"
      ]
     },
     "metadata": {},
     "output_type": "display_data"
    }
   ],
   "source": [
    "sns.boxplot(x='Type', y='Rating', data=df)\n",
    "plt.show()"
   ]
  },
  {
   "cell_type": "markdown",
   "id": "fd091c8d-ee17-4f8b-9f57-f908a405996b",
   "metadata": {},
   "source": [
    "### 🔹 Top Apps with 1B+ Installs — Ranked by User Engagement"
   ]
  },
  {
   "cell_type": "markdown",
   "id": "cb5c2ac3-5c69-4510-b1f7-2b9e2ce09598",
   "metadata": {},
   "source": [
    "Google Play reports installs in ranges like 10K, 100K, 1M, 10M, etc.  \n",
    "As a result, many apps have the **same install count**.\n",
    "\n",
    "For example, over **1,400 apps have 1M installs**, and nearly **1,000 apps have 10M installs**."
   ]
  },
  {
   "cell_type": "code",
   "execution_count": 56,
   "id": "e2ab5a56-a42e-41e9-9071-fdf50352c100",
   "metadata": {},
   "outputs": [
    {
     "data": {
      "text/plain": [
       "Installs\n",
       "1000000     1487\n",
       "10000000    1132\n",
       "100000      1129\n",
       "10000       1031\n",
       "1000         888\n",
       "Name: count, dtype: int64"
      ]
     },
     "execution_count": 56,
     "metadata": {},
     "output_type": "execute_result"
    }
   ],
   "source": [
    "df['Installs'].value_counts().head()"
   ]
  },
  {
   "cell_type": "code",
   "execution_count": 57,
   "id": "621f3bdc-9aee-4869-911f-7a32524dc787",
   "metadata": {},
   "outputs": [],
   "source": [
    "top_installs = df[df['Installs'] == df['Installs'].max()]"
   ]
  },
  {
   "cell_type": "markdown",
   "id": "9593b258-1209-4070-b047-20cdbc161a53",
   "metadata": {},
   "source": [
    "To identify the \"top apps,\" we used the **number of reviews** as a secondary metric."
   ]
  },
  {
   "cell_type": "code",
   "execution_count": 59,
   "id": "03a66c5d-4146-4504-aa70-ec79ff051a74",
   "metadata": {},
   "outputs": [],
   "source": [
    "top_apps = top_installs.sort_values(by='Reviews', ascending=False)"
   ]
  },
  {
   "cell_type": "markdown",
   "id": "6ad0adf1-33ed-442f-ad9e-56caab4e2c57",
   "metadata": {},
   "source": [
    "Below are the top 5 apps in the highest install tier, sorted by review count."
   ]
  },
  {
   "cell_type": "code",
   "execution_count": 61,
   "id": "2d3ad3ef-0b79-4520-ac22-40e943fdf5e3",
   "metadata": {},
   "outputs": [
    {
     "data": {
      "text/html": [
       "<div>\n",
       "<style scoped>\n",
       "    .dataframe tbody tr th:only-of-type {\n",
       "        vertical-align: middle;\n",
       "    }\n",
       "\n",
       "    .dataframe tbody tr th {\n",
       "        vertical-align: top;\n",
       "    }\n",
       "\n",
       "    .dataframe thead th {\n",
       "        text-align: right;\n",
       "    }\n",
       "</style>\n",
       "<table border=\"1\" class=\"dataframe\">\n",
       "  <thead>\n",
       "    <tr style=\"text-align: right;\">\n",
       "      <th></th>\n",
       "      <th>App</th>\n",
       "      <th>Installs</th>\n",
       "      <th>Reviews</th>\n",
       "      <th>Rating</th>\n",
       "    </tr>\n",
       "  </thead>\n",
       "  <tbody>\n",
       "    <tr>\n",
       "      <th>2544</th>\n",
       "      <td>Facebook</td>\n",
       "      <td>1000000000</td>\n",
       "      <td>78158306</td>\n",
       "      <td>4.1</td>\n",
       "    </tr>\n",
       "    <tr>\n",
       "      <th>3943</th>\n",
       "      <td>Facebook</td>\n",
       "      <td>1000000000</td>\n",
       "      <td>78128208</td>\n",
       "      <td>4.1</td>\n",
       "    </tr>\n",
       "    <tr>\n",
       "      <th>336</th>\n",
       "      <td>WhatsApp Messenger</td>\n",
       "      <td>1000000000</td>\n",
       "      <td>69119316</td>\n",
       "      <td>4.4</td>\n",
       "    </tr>\n",
       "    <tr>\n",
       "      <th>3904</th>\n",
       "      <td>WhatsApp Messenger</td>\n",
       "      <td>1000000000</td>\n",
       "      <td>69109672</td>\n",
       "      <td>4.4</td>\n",
       "    </tr>\n",
       "    <tr>\n",
       "      <th>2604</th>\n",
       "      <td>Instagram</td>\n",
       "      <td>1000000000</td>\n",
       "      <td>66577446</td>\n",
       "      <td>4.5</td>\n",
       "    </tr>\n",
       "  </tbody>\n",
       "</table>\n",
       "</div>"
      ],
      "text/plain": [
       "                     App    Installs   Reviews  Rating\n",
       "2544            Facebook  1000000000  78158306     4.1\n",
       "3943            Facebook  1000000000  78128208     4.1\n",
       "336   WhatsApp Messenger  1000000000  69119316     4.4\n",
       "3904  WhatsApp Messenger  1000000000  69109672     4.4\n",
       "2604           Instagram  1000000000  66577446     4.5"
      ]
     },
     "execution_count": 61,
     "metadata": {},
     "output_type": "execute_result"
    }
   ],
   "source": [
    "top_apps[['App', 'Installs', 'Reviews', 'Rating']].head(5)"
   ]
  },
  {
   "cell_type": "markdown",
   "id": "5bf0e5d8-c5cf-45cb-935f-d17e5d652804",
   "metadata": {},
   "source": [
    "# 📌 Key Metrics"
   ]
  },
  {
   "cell_type": "markdown",
   "id": "803b5551-fec1-4017-977d-00adf4b68109",
   "metadata": {},
   "source": [
    "### 🔹 Top 5 Most Common App Genres"
   ]
  },
  {
   "cell_type": "code",
   "execution_count": 64,
   "id": "6a66f7cb-bffc-4271-86c2-ece8b69f0641",
   "metadata": {},
   "outputs": [
    {
     "data": {
      "text/plain": [
       "Genres\n",
       "Tools            840\n",
       "Entertainment    587\n",
       "Education        524\n",
       "Business         426\n",
       "Medical          407\n",
       "Name: count, dtype: int64"
      ]
     },
     "execution_count": 64,
     "metadata": {},
     "output_type": "execute_result"
    }
   ],
   "source": [
    "df['Genres'].value_counts().head(5)"
   ]
  },
  {
   "cell_type": "markdown",
   "id": "c0affcdc-8f1d-400e-bc48-853267e265e8",
   "metadata": {},
   "source": [
    "**A high count in a genre like 'Tools' or 'Entertainment' might indicate market saturation, while also showing developer interest in those areas.**"
   ]
  },
  {
   "cell_type": "markdown",
   "id": "cc138f02-8680-4263-9f83-2b75a9e8ff20",
   "metadata": {},
   "source": [
    "### 🔹 Top 5 App Categories by Total Installs"
   ]
  },
  {
   "cell_type": "code",
   "execution_count": 67,
   "id": "c89960fa-030b-4947-9c50-3041394280fc",
   "metadata": {
    "scrolled": true
   },
   "outputs": [
    {
     "data": {
      "text/plain": [
       "Category\n",
       "GAME             31544024415\n",
       "COMMUNICATION    24152276251\n",
       "SOCIAL           12513867902\n",
       "PRODUCTIVITY     12463091369\n",
       "TOOLS            11452271905\n",
       "Name: Installs, dtype: int64"
      ]
     },
     "execution_count": 67,
     "metadata": {},
     "output_type": "execute_result"
    }
   ],
   "source": [
    "df.groupby('Category')['Installs'].sum().sort_values(ascending=False).head()"
   ]
  },
  {
   "cell_type": "markdown",
   "id": "91e430c4-669e-4145-b5b3-5dd9362da078",
   "metadata": {},
   "source": [
    "**\"The 'GAME' and 'COMMUNICATION' categories lead in total installs, suggesting a high demand for entertainment and social connectivity apps.\"**"
   ]
  },
  {
   "cell_type": "markdown",
   "id": "ee101784-9276-42e1-ae17-42e7906dc032",
   "metadata": {},
   "source": [
    "### 🔹 Top 5 App Categories by Total Number of Reviews"
   ]
  },
  {
   "cell_type": "code",
   "execution_count": 70,
   "id": "3d4cda08-fc58-4069-b0e4-c0d336057d8a",
   "metadata": {
    "scrolled": true
   },
   "outputs": [
    {
     "data": {
      "text/plain": [
       "Category\n",
       "GAME             1415536650\n",
       "COMMUNICATION     601273552\n",
       "SOCIAL            533576829\n",
       "FAMILY            396771746\n",
       "TOOLS             273181033\n",
       "Name: Reviews, dtype: int32"
      ]
     },
     "execution_count": 70,
     "metadata": {},
     "output_type": "execute_result"
    }
   ],
   "source": [
    "df.groupby('Category')['Reviews'].sum().sort_values(ascending=False).head()"
   ]
  },
  {
   "cell_type": "markdown",
   "id": "88e08512-f896-4fa4-a4e2-632caf06a521",
   "metadata": {},
   "source": [
    "**\"Categories like 'GAME' and 'COMMUNICATION' not only lead in installs but also reviews, suggesting active user engagement beyond just downloads.\"**\n",
    "\n"
   ]
  },
  {
   "cell_type": "raw",
   "id": "79367c3f-5b96-4f70-9caf-5a3bb7e5a85e",
   "metadata": {},
   "source": []
  },
  {
   "cell_type": "markdown",
   "id": "25fbb874-f74d-452f-a51e-e22829b40fd9",
   "metadata": {},
   "source": [
    "## 🔍 Final Thoughts\n",
    "\n",
    "Overall, the data shows that app categories like 'GAME' and 'COMMUNICATION' dominate in both installs and user engagement. Combined with genre frequency, these insights offer a snapshot of current market trends and user interests in the Google Play ecosystem."
   ]
  },
  {
   "cell_type": "markdown",
   "id": "6e5f186e-b92c-4ee2-b7d4-23a4f65ce51e",
   "metadata": {},
   "source": [
    "## What These Insights Could Be Used For:"
   ]
  },
  {
   "cell_type": "markdown",
   "id": "26a49603-65cd-49d3-9921-d581ac13794c",
   "metadata": {},
   "source": [
    "These insights could help app developers or marketers focus on high-demand categories, understand user behavior, and identify saturated genres to either innovate in or avoid."
   ]
  },
  {
   "cell_type": "markdown",
   "id": "281a3504-9609-495e-882e-24631c7332f7",
   "metadata": {},
   "source": [
    "## Limitations:"
   ]
  },
  {
   "cell_type": "markdown",
   "id": "73a63d70-a3ea-4978-af28-9816b646e85e",
   "metadata": {},
   "source": [
    "- Data may be outdated or limited in scope.\n",
    "- Some values (e.g., installs, ratings) may not be up-to-date or normalized."
   ]
  },
  {
   "cell_type": "markdown",
   "id": "b5aef56e-2f94-482c-88ac-59b7c5035034",
   "metadata": {},
   "source": [
    "## Next Steps:"
   ]
  },
  {
   "cell_type": "markdown",
   "id": "5ca2313b-276a-44c2-9ac9-f902dab87bb2",
   "metadata": {},
   "source": [
    "- Explore ratings vs. installs to check satisfaction levels.\n",
    "- Perform sentiment analysis on user reviews (if review text available).\n",
    "- Cluster similar genres for better insights."
   ]
  }
 ],
 "metadata": {
  "kernelspec": {
   "display_name": "Python [conda env:base] *",
   "language": "python",
   "name": "conda-base-py"
  },
  "language_info": {
   "codemirror_mode": {
    "name": "ipython",
    "version": 3
   },
   "file_extension": ".py",
   "mimetype": "text/x-python",
   "name": "python",
   "nbconvert_exporter": "python",
   "pygments_lexer": "ipython3",
   "version": "3.12.7"
  }
 },
 "nbformat": 4,
 "nbformat_minor": 5
}
