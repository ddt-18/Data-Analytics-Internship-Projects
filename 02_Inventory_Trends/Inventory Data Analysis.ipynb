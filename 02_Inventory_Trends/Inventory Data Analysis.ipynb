{
 "cells": [
  {
   "cell_type": "markdown",
   "id": "2e823e28-865b-4ce1-a973-a1dc3492975b",
   "metadata": {},
   "source": [
    "# 📦 **Inventory Data Analysis**"
   ]
  },
  {
   "cell_type": "markdown",
   "id": "7a4769aa-9984-4126-88d3-c21638069849",
   "metadata": {},
   "source": [
    "**Author:** Dhaara Thakkar "
   ]
  },
  {
   "cell_type": "markdown",
   "id": "2e74cb8a-2062-4997-b044-441176c1d020",
   "metadata": {},
   "source": [
    "## 📌 Project Objective\n",
    "\n",
    "In this project, we will analyze inventory, sales, and purchasing data for a manufacturing company to identify inefficiencies, reduce costs, and improve inventory strategy."
   ]
  },
  {
   "cell_type": "markdown",
   "id": "8bdacb6f-e2a3-48eb-8b1b-75e5d65e2556",
   "metadata": {},
   "source": [
    "## 🧾 Step 1: Import Libraries"
   ]
  },
  {
   "cell_type": "code",
   "execution_count": 5,
   "id": "efcccf3c-b15a-45fb-bee2-2d0108bcde55",
   "metadata": {},
   "outputs": [],
   "source": [
    "import pandas as pd\n",
    "import numpy as np\n",
    "import seaborn as sns\n",
    "import matplotlib.pyplot as plt\n",
    "%matplotlib inline"
   ]
  },
  {
   "cell_type": "markdown",
   "id": "2701c387-c827-4f9f-9149-ab27bee275db",
   "metadata": {},
   "source": [
    "## 📂 Step 2: Load the Datasets\n",
    "\n",
    "We will be working with six different datasets covering various aspects of inventory, sales, and purchasing operations.  \n",
    "Below is the list of datasets and what they represent:\n",
    "\n",
    "- **product_prices** → Product-wise purchase prices from vendors\n",
    "- **beg_inventory** → Stock levels at the beginning of the year\n",
    "- **end_inventory** → Stock levels at the end of the year\n",
    "- **invoice_data** → Invoice-level details from vendors (dates, freight, amounts)\n",
    "- **purchase_records** → Actual purchased items and their quantities\n",
    "- **sales_data** → Final sales transactions for each product\n",
    "\n",
    "We will now load all these datasets into pandas DataFrames for further analysis."
   ]
  },
  {
   "cell_type": "code",
   "execution_count": 7,
   "id": "bf49701e-23a3-4987-a6a9-c414f62e4719",
   "metadata": {},
   "outputs": [],
   "source": [
    "product_prices = pd.read_csv(r\"C:\\Users\\Admin\\Documents\\Projects\\Inventory Data Analysis\\2017PurchasePricesDec.csv\")\n",
    "beg_inventory = pd.read_csv(r\"C:\\Users\\Admin\\Documents\\Projects\\Inventory Data Analysis\\BegInvFINAL12312016.csv\")\n",
    "end_inventory = pd.read_csv(r\"C:\\Users\\Admin\\Documents\\Projects\\Inventory Data Analysis\\EndInvFINAL12312016.csv\")\n",
    "invoice_data = pd.read_csv(r\"C:\\Users\\Admin\\Documents\\Projects\\Inventory Data Analysis\\InvoicePurchases12312016.csv\")\n",
    "purchase_records = pd.read_csv(r\"C:\\Users\\Admin\\Documents\\Projects\\Inventory Data Analysis\\PurchasesFINAL12312016.csv\")\n",
    "sales_data = pd.read_csv(r\"C:\\Users\\Admin\\Documents\\Projects\\Inventory Data Analysis\\SalesFINAL12312016.csv\")"
   ]
  },
  {
   "cell_type": "markdown",
   "id": "1062c961-090b-4f0a-bd9e-e31b2f78ef89",
   "metadata": {},
   "source": [
    "## 🧼 Step 3: Data Cleaning\n",
    "\n",
    "We will clean each dataset individually to ensure consistency and reliability before analysis. This includes:\n",
    "\n",
    "- Handling missing values\n",
    "- Removing duplicates\n",
    "- Converting data types\n",
    "- Creating new calculated columns if needed"
   ]
  },
  {
   "cell_type": "markdown",
   "id": "a4119db3-9bc5-4e03-9a63-e173523a07c8",
   "metadata": {},
   "source": [
    "### 🔹3.1: **'product_prices'** dataset"
   ]
  },
  {
   "cell_type": "code",
   "execution_count": 10,
   "id": "f02217ac-8ca3-43ee-ac87-f7e8a9619a2b",
   "metadata": {},
   "outputs": [
    {
     "data": {
      "text/plain": [
       "(12261, 9)"
      ]
     },
     "execution_count": 10,
     "metadata": {},
     "output_type": "execute_result"
    }
   ],
   "source": [
    "product_prices.shape"
   ]
  },
  {
   "cell_type": "code",
   "execution_count": 11,
   "id": "bf052937-b6c8-4458-880d-d3af279b38e8",
   "metadata": {},
   "outputs": [
    {
     "data": {
      "text/html": [
       "<div>\n",
       "<style scoped>\n",
       "    .dataframe tbody tr th:only-of-type {\n",
       "        vertical-align: middle;\n",
       "    }\n",
       "\n",
       "    .dataframe tbody tr th {\n",
       "        vertical-align: top;\n",
       "    }\n",
       "\n",
       "    .dataframe thead th {\n",
       "        text-align: right;\n",
       "    }\n",
       "</style>\n",
       "<table border=\"1\" class=\"dataframe\">\n",
       "  <thead>\n",
       "    <tr style=\"text-align: right;\">\n",
       "      <th></th>\n",
       "      <th>Brand</th>\n",
       "      <th>Description</th>\n",
       "      <th>Price</th>\n",
       "      <th>Size</th>\n",
       "      <th>Volume</th>\n",
       "      <th>Classification</th>\n",
       "      <th>PurchasePrice</th>\n",
       "      <th>VendorNumber</th>\n",
       "      <th>VendorName</th>\n",
       "    </tr>\n",
       "  </thead>\n",
       "  <tbody>\n",
       "    <tr>\n",
       "      <th>0</th>\n",
       "      <td>58</td>\n",
       "      <td>Gekkeikan Black &amp; Gold Sake</td>\n",
       "      <td>12.99</td>\n",
       "      <td>750mL</td>\n",
       "      <td>750</td>\n",
       "      <td>1</td>\n",
       "      <td>9.28</td>\n",
       "      <td>8320</td>\n",
       "      <td>SHAW ROSS INT L IMP LTD</td>\n",
       "    </tr>\n",
       "    <tr>\n",
       "      <th>1</th>\n",
       "      <td>62</td>\n",
       "      <td>Herradura Silver Tequila</td>\n",
       "      <td>36.99</td>\n",
       "      <td>750mL</td>\n",
       "      <td>750</td>\n",
       "      <td>1</td>\n",
       "      <td>28.67</td>\n",
       "      <td>1128</td>\n",
       "      <td>BROWN-FORMAN CORP</td>\n",
       "    </tr>\n",
       "    <tr>\n",
       "      <th>2</th>\n",
       "      <td>63</td>\n",
       "      <td>Herradura Reposado Tequila</td>\n",
       "      <td>38.99</td>\n",
       "      <td>750mL</td>\n",
       "      <td>750</td>\n",
       "      <td>1</td>\n",
       "      <td>30.46</td>\n",
       "      <td>1128</td>\n",
       "      <td>BROWN-FORMAN CORP</td>\n",
       "    </tr>\n",
       "    <tr>\n",
       "      <th>3</th>\n",
       "      <td>72</td>\n",
       "      <td>No. 3 London Dry Gin</td>\n",
       "      <td>34.99</td>\n",
       "      <td>750mL</td>\n",
       "      <td>750</td>\n",
       "      <td>1</td>\n",
       "      <td>26.11</td>\n",
       "      <td>9165</td>\n",
       "      <td>ULTRA BEVERAGE COMPANY LLP</td>\n",
       "    </tr>\n",
       "    <tr>\n",
       "      <th>4</th>\n",
       "      <td>75</td>\n",
       "      <td>Three Olives Tomato Vodka</td>\n",
       "      <td>14.99</td>\n",
       "      <td>750mL</td>\n",
       "      <td>750</td>\n",
       "      <td>1</td>\n",
       "      <td>10.94</td>\n",
       "      <td>7245</td>\n",
       "      <td>PROXIMO SPIRITS INC.</td>\n",
       "    </tr>\n",
       "  </tbody>\n",
       "</table>\n",
       "</div>"
      ],
      "text/plain": [
       "   Brand                  Description  Price   Size Volume  Classification  \\\n",
       "0     58  Gekkeikan Black & Gold Sake  12.99  750mL    750               1   \n",
       "1     62     Herradura Silver Tequila  36.99  750mL    750               1   \n",
       "2     63   Herradura Reposado Tequila  38.99  750mL    750               1   \n",
       "3     72         No. 3 London Dry Gin  34.99  750mL    750               1   \n",
       "4     75    Three Olives Tomato Vodka  14.99  750mL    750               1   \n",
       "\n",
       "   PurchasePrice  VendorNumber                   VendorName  \n",
       "0           9.28          8320  SHAW ROSS INT L IMP LTD      \n",
       "1          28.67          1128  BROWN-FORMAN CORP            \n",
       "2          30.46          1128  BROWN-FORMAN CORP            \n",
       "3          26.11          9165  ULTRA BEVERAGE COMPANY LLP   \n",
       "4          10.94          7245  PROXIMO SPIRITS INC.         "
      ]
     },
     "execution_count": 11,
     "metadata": {},
     "output_type": "execute_result"
    }
   ],
   "source": [
    "product_prices.head()"
   ]
  },
  {
   "cell_type": "code",
   "execution_count": 12,
   "id": "9940fc1b-d7a2-4720-b783-dbb6c20086e1",
   "metadata": {},
   "outputs": [
    {
     "name": "stdout",
     "output_type": "stream",
     "text": [
      "🔍 Missing values in product_prices:\n",
      "Brand             0\n",
      "Description       1\n",
      "Price             0\n",
      "Size              1\n",
      "Volume            1\n",
      "Classification    0\n",
      "PurchasePrice     0\n",
      "VendorNumber      0\n",
      "VendorName        0\n",
      "dtype: int64\n"
     ]
    }
   ],
   "source": [
    "print(\"🔍 Missing values in product_prices:\")\n",
    "print(product_prices.isnull().sum())"
   ]
  },
  {
   "cell_type": "code",
   "execution_count": 13,
   "id": "e3a7db80-50c6-4c83-9edd-c244cea4bf06",
   "metadata": {},
   "outputs": [
    {
     "data": {
      "text/html": [
       "<div>\n",
       "<style scoped>\n",
       "    .dataframe tbody tr th:only-of-type {\n",
       "        vertical-align: middle;\n",
       "    }\n",
       "\n",
       "    .dataframe tbody tr th {\n",
       "        vertical-align: top;\n",
       "    }\n",
       "\n",
       "    .dataframe thead th {\n",
       "        text-align: right;\n",
       "    }\n",
       "</style>\n",
       "<table border=\"1\" class=\"dataframe\">\n",
       "  <thead>\n",
       "    <tr style=\"text-align: right;\">\n",
       "      <th></th>\n",
       "      <th>Brand</th>\n",
       "      <th>Description</th>\n",
       "      <th>Price</th>\n",
       "      <th>Size</th>\n",
       "      <th>Volume</th>\n",
       "      <th>Classification</th>\n",
       "      <th>PurchasePrice</th>\n",
       "      <th>VendorNumber</th>\n",
       "      <th>VendorName</th>\n",
       "    </tr>\n",
       "  </thead>\n",
       "  <tbody>\n",
       "    <tr>\n",
       "      <th>7915</th>\n",
       "      <td>4202</td>\n",
       "      <td>NaN</td>\n",
       "      <td>0.0</td>\n",
       "      <td>NaN</td>\n",
       "      <td>NaN</td>\n",
       "      <td>1</td>\n",
       "      <td>11.19</td>\n",
       "      <td>480</td>\n",
       "      <td>BACARDI USA INC</td>\n",
       "    </tr>\n",
       "  </tbody>\n",
       "</table>\n",
       "</div>"
      ],
      "text/plain": [
       "      Brand Description  Price Size Volume  Classification  PurchasePrice  \\\n",
       "7915   4202         NaN    0.0  NaN    NaN               1          11.19   \n",
       "\n",
       "      VendorNumber                   VendorName  \n",
       "7915           480  BACARDI USA INC              "
      ]
     },
     "execution_count": 13,
     "metadata": {},
     "output_type": "execute_result"
    }
   ],
   "source": [
    "product_prices[product_prices.isnull().any(axis=1)]"
   ]
  },
  {
   "cell_type": "code",
   "execution_count": 14,
   "id": "ff0c84ae-5583-43cd-8b21-28a55a7dd489",
   "metadata": {},
   "outputs": [],
   "source": [
    "product_prices.dropna(inplace = True)"
   ]
  },
  {
   "cell_type": "code",
   "execution_count": 15,
   "id": "3f98d804-8239-4cfe-943c-77ba02f7be0d",
   "metadata": {},
   "outputs": [
    {
     "name": "stdout",
     "output_type": "stream",
     "text": [
      "<class 'pandas.core.frame.DataFrame'>\n",
      "Index: 12260 entries, 0 to 12260\n",
      "Data columns (total 9 columns):\n",
      " #   Column          Non-Null Count  Dtype  \n",
      "---  ------          --------------  -----  \n",
      " 0   Brand           12260 non-null  int64  \n",
      " 1   Description     12260 non-null  object \n",
      " 2   Price           12260 non-null  float64\n",
      " 3   Size            12260 non-null  object \n",
      " 4   Volume          12260 non-null  object \n",
      " 5   Classification  12260 non-null  int64  \n",
      " 6   PurchasePrice   12260 non-null  float64\n",
      " 7   VendorNumber    12260 non-null  int64  \n",
      " 8   VendorName      12260 non-null  object \n",
      "dtypes: float64(2), int64(3), object(4)\n",
      "memory usage: 957.8+ KB\n"
     ]
    }
   ],
   "source": [
    "product_prices.info()"
   ]
  },
  {
   "cell_type": "code",
   "execution_count": 16,
   "id": "0da7be6e-33ef-49a1-aa46-122afc7f4a15",
   "metadata": {},
   "outputs": [
    {
     "name": "stdout",
     "output_type": "stream",
     "text": [
      "Duplicate rows: 0\n"
     ]
    }
   ],
   "source": [
    "print(f\"Duplicate rows: {product_prices.duplicated().sum()}\")"
   ]
  },
  {
   "cell_type": "markdown",
   "id": "e815109c-9693-48dc-9733-c812f27707e4",
   "metadata": {},
   "source": [
    "### 🔹3.2: **'beg_inventory'** dataset"
   ]
  },
  {
   "cell_type": "code",
   "execution_count": 18,
   "id": "803dbb46-2517-49d1-bb30-170fb609569e",
   "metadata": {},
   "outputs": [
    {
     "data": {
      "text/plain": [
       "(206529, 9)"
      ]
     },
     "execution_count": 18,
     "metadata": {},
     "output_type": "execute_result"
    }
   ],
   "source": [
    "beg_inventory.shape"
   ]
  },
  {
   "cell_type": "code",
   "execution_count": 19,
   "id": "29bee2f5-c2f4-4b9f-a704-b6bda666f3d0",
   "metadata": {},
   "outputs": [
    {
     "data": {
      "text/html": [
       "<div>\n",
       "<style scoped>\n",
       "    .dataframe tbody tr th:only-of-type {\n",
       "        vertical-align: middle;\n",
       "    }\n",
       "\n",
       "    .dataframe tbody tr th {\n",
       "        vertical-align: top;\n",
       "    }\n",
       "\n",
       "    .dataframe thead th {\n",
       "        text-align: right;\n",
       "    }\n",
       "</style>\n",
       "<table border=\"1\" class=\"dataframe\">\n",
       "  <thead>\n",
       "    <tr style=\"text-align: right;\">\n",
       "      <th></th>\n",
       "      <th>InventoryId</th>\n",
       "      <th>Store</th>\n",
       "      <th>City</th>\n",
       "      <th>Brand</th>\n",
       "      <th>Description</th>\n",
       "      <th>Size</th>\n",
       "      <th>onHand</th>\n",
       "      <th>Price</th>\n",
       "      <th>startDate</th>\n",
       "    </tr>\n",
       "  </thead>\n",
       "  <tbody>\n",
       "    <tr>\n",
       "      <th>0</th>\n",
       "      <td>1_HARDERSFIELD_58</td>\n",
       "      <td>1</td>\n",
       "      <td>HARDERSFIELD</td>\n",
       "      <td>58</td>\n",
       "      <td>Gekkeikan Black &amp; Gold Sake</td>\n",
       "      <td>750mL</td>\n",
       "      <td>8</td>\n",
       "      <td>12.99</td>\n",
       "      <td>2016-01-01</td>\n",
       "    </tr>\n",
       "    <tr>\n",
       "      <th>1</th>\n",
       "      <td>1_HARDERSFIELD_60</td>\n",
       "      <td>1</td>\n",
       "      <td>HARDERSFIELD</td>\n",
       "      <td>60</td>\n",
       "      <td>Canadian Club 1858 VAP</td>\n",
       "      <td>750mL</td>\n",
       "      <td>7</td>\n",
       "      <td>10.99</td>\n",
       "      <td>2016-01-01</td>\n",
       "    </tr>\n",
       "    <tr>\n",
       "      <th>2</th>\n",
       "      <td>1_HARDERSFIELD_62</td>\n",
       "      <td>1</td>\n",
       "      <td>HARDERSFIELD</td>\n",
       "      <td>62</td>\n",
       "      <td>Herradura Silver Tequila</td>\n",
       "      <td>750mL</td>\n",
       "      <td>6</td>\n",
       "      <td>36.99</td>\n",
       "      <td>2016-01-01</td>\n",
       "    </tr>\n",
       "    <tr>\n",
       "      <th>3</th>\n",
       "      <td>1_HARDERSFIELD_63</td>\n",
       "      <td>1</td>\n",
       "      <td>HARDERSFIELD</td>\n",
       "      <td>63</td>\n",
       "      <td>Herradura Reposado Tequila</td>\n",
       "      <td>750mL</td>\n",
       "      <td>3</td>\n",
       "      <td>38.99</td>\n",
       "      <td>2016-01-01</td>\n",
       "    </tr>\n",
       "    <tr>\n",
       "      <th>4</th>\n",
       "      <td>1_HARDERSFIELD_72</td>\n",
       "      <td>1</td>\n",
       "      <td>HARDERSFIELD</td>\n",
       "      <td>72</td>\n",
       "      <td>No. 3 London Dry Gin</td>\n",
       "      <td>750mL</td>\n",
       "      <td>6</td>\n",
       "      <td>34.99</td>\n",
       "      <td>2016-01-01</td>\n",
       "    </tr>\n",
       "  </tbody>\n",
       "</table>\n",
       "</div>"
      ],
      "text/plain": [
       "         InventoryId  Store          City  Brand                  Description  \\\n",
       "0  1_HARDERSFIELD_58      1  HARDERSFIELD     58  Gekkeikan Black & Gold Sake   \n",
       "1  1_HARDERSFIELD_60      1  HARDERSFIELD     60       Canadian Club 1858 VAP   \n",
       "2  1_HARDERSFIELD_62      1  HARDERSFIELD     62     Herradura Silver Tequila   \n",
       "3  1_HARDERSFIELD_63      1  HARDERSFIELD     63   Herradura Reposado Tequila   \n",
       "4  1_HARDERSFIELD_72      1  HARDERSFIELD     72         No. 3 London Dry Gin   \n",
       "\n",
       "    Size  onHand  Price   startDate  \n",
       "0  750mL       8  12.99  2016-01-01  \n",
       "1  750mL       7  10.99  2016-01-01  \n",
       "2  750mL       6  36.99  2016-01-01  \n",
       "3  750mL       3  38.99  2016-01-01  \n",
       "4  750mL       6  34.99  2016-01-01  "
      ]
     },
     "execution_count": 19,
     "metadata": {},
     "output_type": "execute_result"
    }
   ],
   "source": [
    "beg_inventory.head()"
   ]
  },
  {
   "cell_type": "code",
   "execution_count": 20,
   "id": "96165938-1691-4d4e-a3bd-de70f32ed418",
   "metadata": {},
   "outputs": [
    {
     "name": "stdout",
     "output_type": "stream",
     "text": [
      "🔍 Missing value in beg_inventory:\n",
      "InventoryId    0\n",
      "Store          0\n",
      "City           0\n",
      "Brand          0\n",
      "Description    0\n",
      "Size           0\n",
      "onHand         0\n",
      "Price          0\n",
      "startDate      0\n",
      "dtype: int64\n"
     ]
    }
   ],
   "source": [
    "print(\"🔍 Missing value in beg_inventory:\")\n",
    "print(beg_inventory.isnull().sum())"
   ]
  },
  {
   "cell_type": "code",
   "execution_count": 21,
   "id": "3ae573fc-fdf2-4f67-87eb-205ca7ddd090",
   "metadata": {},
   "outputs": [
    {
     "name": "stdout",
     "output_type": "stream",
     "text": [
      "Duplicate rows: 0\n"
     ]
    }
   ],
   "source": [
    "print(f\"Duplicate rows: {beg_inventory.duplicated().sum()}\")"
   ]
  },
  {
   "cell_type": "code",
   "execution_count": 22,
   "id": "f963a0b9-3308-4a26-bab1-49184b7cdf9a",
   "metadata": {},
   "outputs": [],
   "source": [
    "beg_inventory['startDate'] = pd.to_datetime(beg_inventory['startDate'])"
   ]
  },
  {
   "cell_type": "code",
   "execution_count": 23,
   "id": "744c9d5c-9125-41bb-a581-3617182a3406",
   "metadata": {},
   "outputs": [
    {
     "name": "stdout",
     "output_type": "stream",
     "text": [
      "<class 'pandas.core.frame.DataFrame'>\n",
      "RangeIndex: 206529 entries, 0 to 206528\n",
      "Data columns (total 9 columns):\n",
      " #   Column       Non-Null Count   Dtype         \n",
      "---  ------       --------------   -----         \n",
      " 0   InventoryId  206529 non-null  object        \n",
      " 1   Store        206529 non-null  int64         \n",
      " 2   City         206529 non-null  object        \n",
      " 3   Brand        206529 non-null  int64         \n",
      " 4   Description  206529 non-null  object        \n",
      " 5   Size         206529 non-null  object        \n",
      " 6   onHand       206529 non-null  int64         \n",
      " 7   Price        206529 non-null  float64       \n",
      " 8   startDate    206529 non-null  datetime64[ns]\n",
      "dtypes: datetime64[ns](1), float64(1), int64(3), object(4)\n",
      "memory usage: 14.2+ MB\n"
     ]
    }
   ],
   "source": [
    "beg_inventory.info()"
   ]
  },
  {
   "cell_type": "markdown",
   "id": "1edbd4eb-66de-47d7-b219-51b5a2790031",
   "metadata": {},
   "source": [
    "### 🔹3.3: **'end_inventory'** dataset"
   ]
  },
  {
   "cell_type": "code",
   "execution_count": 25,
   "id": "1da5b86c-f5b6-4e75-98f5-82e312abc101",
   "metadata": {},
   "outputs": [
    {
     "data": {
      "text/plain": [
       "(224489, 9)"
      ]
     },
     "execution_count": 25,
     "metadata": {},
     "output_type": "execute_result"
    }
   ],
   "source": [
    "end_inventory.shape"
   ]
  },
  {
   "cell_type": "code",
   "execution_count": 26,
   "id": "71ab4cb2-e685-4a84-8a67-beaa34395180",
   "metadata": {},
   "outputs": [
    {
     "data": {
      "text/html": [
       "<div>\n",
       "<style scoped>\n",
       "    .dataframe tbody tr th:only-of-type {\n",
       "        vertical-align: middle;\n",
       "    }\n",
       "\n",
       "    .dataframe tbody tr th {\n",
       "        vertical-align: top;\n",
       "    }\n",
       "\n",
       "    .dataframe thead th {\n",
       "        text-align: right;\n",
       "    }\n",
       "</style>\n",
       "<table border=\"1\" class=\"dataframe\">\n",
       "  <thead>\n",
       "    <tr style=\"text-align: right;\">\n",
       "      <th></th>\n",
       "      <th>InventoryId</th>\n",
       "      <th>Store</th>\n",
       "      <th>City</th>\n",
       "      <th>Brand</th>\n",
       "      <th>Description</th>\n",
       "      <th>Size</th>\n",
       "      <th>onHand</th>\n",
       "      <th>Price</th>\n",
       "      <th>endDate</th>\n",
       "    </tr>\n",
       "  </thead>\n",
       "  <tbody>\n",
       "    <tr>\n",
       "      <th>0</th>\n",
       "      <td>1_HARDERSFIELD_58</td>\n",
       "      <td>1</td>\n",
       "      <td>HARDERSFIELD</td>\n",
       "      <td>58</td>\n",
       "      <td>Gekkeikan Black &amp; Gold Sake</td>\n",
       "      <td>750mL</td>\n",
       "      <td>11</td>\n",
       "      <td>12.99</td>\n",
       "      <td>2016-12-31</td>\n",
       "    </tr>\n",
       "    <tr>\n",
       "      <th>1</th>\n",
       "      <td>1_HARDERSFIELD_62</td>\n",
       "      <td>1</td>\n",
       "      <td>HARDERSFIELD</td>\n",
       "      <td>62</td>\n",
       "      <td>Herradura Silver Tequila</td>\n",
       "      <td>750mL</td>\n",
       "      <td>7</td>\n",
       "      <td>36.99</td>\n",
       "      <td>2016-12-31</td>\n",
       "    </tr>\n",
       "    <tr>\n",
       "      <th>2</th>\n",
       "      <td>1_HARDERSFIELD_63</td>\n",
       "      <td>1</td>\n",
       "      <td>HARDERSFIELD</td>\n",
       "      <td>63</td>\n",
       "      <td>Herradura Reposado Tequila</td>\n",
       "      <td>750mL</td>\n",
       "      <td>7</td>\n",
       "      <td>38.99</td>\n",
       "      <td>2016-12-31</td>\n",
       "    </tr>\n",
       "    <tr>\n",
       "      <th>3</th>\n",
       "      <td>1_HARDERSFIELD_72</td>\n",
       "      <td>1</td>\n",
       "      <td>HARDERSFIELD</td>\n",
       "      <td>72</td>\n",
       "      <td>No. 3 London Dry Gin</td>\n",
       "      <td>750mL</td>\n",
       "      <td>4</td>\n",
       "      <td>34.99</td>\n",
       "      <td>2016-12-31</td>\n",
       "    </tr>\n",
       "    <tr>\n",
       "      <th>4</th>\n",
       "      <td>1_HARDERSFIELD_75</td>\n",
       "      <td>1</td>\n",
       "      <td>HARDERSFIELD</td>\n",
       "      <td>75</td>\n",
       "      <td>Three Olives Tomato Vodka</td>\n",
       "      <td>750mL</td>\n",
       "      <td>7</td>\n",
       "      <td>14.99</td>\n",
       "      <td>2016-12-31</td>\n",
       "    </tr>\n",
       "  </tbody>\n",
       "</table>\n",
       "</div>"
      ],
      "text/plain": [
       "         InventoryId  Store          City  Brand                  Description  \\\n",
       "0  1_HARDERSFIELD_58      1  HARDERSFIELD     58  Gekkeikan Black & Gold Sake   \n",
       "1  1_HARDERSFIELD_62      1  HARDERSFIELD     62     Herradura Silver Tequila   \n",
       "2  1_HARDERSFIELD_63      1  HARDERSFIELD     63   Herradura Reposado Tequila   \n",
       "3  1_HARDERSFIELD_72      1  HARDERSFIELD     72         No. 3 London Dry Gin   \n",
       "4  1_HARDERSFIELD_75      1  HARDERSFIELD     75    Three Olives Tomato Vodka   \n",
       "\n",
       "    Size  onHand  Price     endDate  \n",
       "0  750mL      11  12.99  2016-12-31  \n",
       "1  750mL       7  36.99  2016-12-31  \n",
       "2  750mL       7  38.99  2016-12-31  \n",
       "3  750mL       4  34.99  2016-12-31  \n",
       "4  750mL       7  14.99  2016-12-31  "
      ]
     },
     "execution_count": 26,
     "metadata": {},
     "output_type": "execute_result"
    }
   ],
   "source": [
    "end_inventory.head()"
   ]
  },
  {
   "cell_type": "code",
   "execution_count": 27,
   "id": "479fcd91-ab23-49c7-b4e5-7a27b2a79299",
   "metadata": {},
   "outputs": [
    {
     "name": "stdout",
     "output_type": "stream",
     "text": [
      "🔍 Missing Values in end_inventory:\n",
      "InventoryId       0\n",
      "Store             0\n",
      "City           1284\n",
      "Brand             0\n",
      "Description       0\n",
      "Size              0\n",
      "onHand            0\n",
      "Price             0\n",
      "endDate           0\n",
      "dtype: int64\n"
     ]
    }
   ],
   "source": [
    "print(\"🔍 Missing Values in end_inventory:\")\n",
    "print(end_inventory.isnull().sum())"
   ]
  },
  {
   "cell_type": "code",
   "execution_count": 28,
   "id": "464117a5-834e-4ab9-8d57-a9e2ae6a723c",
   "metadata": {},
   "outputs": [],
   "source": [
    "end_inventory.dropna(inplace =True)"
   ]
  },
  {
   "cell_type": "code",
   "execution_count": 29,
   "id": "608c171c-862a-46d5-a1ad-f3e6ed57c79f",
   "metadata": {},
   "outputs": [
    {
     "name": "stdout",
     "output_type": "stream",
     "text": [
      "0\n"
     ]
    }
   ],
   "source": [
    "print(end_inventory.duplicated().sum())"
   ]
  },
  {
   "cell_type": "code",
   "execution_count": 30,
   "id": "7a6576c1-67b6-46bf-b068-b712e1a6ca47",
   "metadata": {},
   "outputs": [],
   "source": [
    "end_inventory['endDate'] = pd.to_datetime(end_inventory['endDate'])"
   ]
  },
  {
   "cell_type": "code",
   "execution_count": 31,
   "id": "4e6839b9-bdf2-4520-9c27-695e839c3d08",
   "metadata": {},
   "outputs": [
    {
     "name": "stdout",
     "output_type": "stream",
     "text": [
      "<class 'pandas.core.frame.DataFrame'>\n",
      "Index: 223205 entries, 0 to 224488\n",
      "Data columns (total 9 columns):\n",
      " #   Column       Non-Null Count   Dtype         \n",
      "---  ------       --------------   -----         \n",
      " 0   InventoryId  223205 non-null  object        \n",
      " 1   Store        223205 non-null  int64         \n",
      " 2   City         223205 non-null  object        \n",
      " 3   Brand        223205 non-null  int64         \n",
      " 4   Description  223205 non-null  object        \n",
      " 5   Size         223205 non-null  object        \n",
      " 6   onHand       223205 non-null  int64         \n",
      " 7   Price        223205 non-null  float64       \n",
      " 8   endDate      223205 non-null  datetime64[ns]\n",
      "dtypes: datetime64[ns](1), float64(1), int64(3), object(4)\n",
      "memory usage: 17.0+ MB\n",
      "None\n"
     ]
    }
   ],
   "source": [
    "print(end_inventory.info())"
   ]
  },
  {
   "cell_type": "markdown",
   "id": "9991b5a6-e41f-41c5-93ea-7869a0ccdf26",
   "metadata": {},
   "source": [
    "### 🔹3.4: **'invoice_data'** dataset"
   ]
  },
  {
   "cell_type": "code",
   "execution_count": 33,
   "id": "7e4eba61-b901-407e-a233-c773615d20b3",
   "metadata": {},
   "outputs": [
    {
     "data": {
      "text/plain": [
       "(5543, 10)"
      ]
     },
     "execution_count": 33,
     "metadata": {},
     "output_type": "execute_result"
    }
   ],
   "source": [
    "invoice_data.shape"
   ]
  },
  {
   "cell_type": "code",
   "execution_count": 34,
   "id": "40007063-78cf-4ec9-992e-679f4b771dea",
   "metadata": {},
   "outputs": [
    {
     "data": {
      "text/html": [
       "<div>\n",
       "<style scoped>\n",
       "    .dataframe tbody tr th:only-of-type {\n",
       "        vertical-align: middle;\n",
       "    }\n",
       "\n",
       "    .dataframe tbody tr th {\n",
       "        vertical-align: top;\n",
       "    }\n",
       "\n",
       "    .dataframe thead th {\n",
       "        text-align: right;\n",
       "    }\n",
       "</style>\n",
       "<table border=\"1\" class=\"dataframe\">\n",
       "  <thead>\n",
       "    <tr style=\"text-align: right;\">\n",
       "      <th></th>\n",
       "      <th>VendorNumber</th>\n",
       "      <th>VendorName</th>\n",
       "      <th>InvoiceDate</th>\n",
       "      <th>PONumber</th>\n",
       "      <th>PODate</th>\n",
       "      <th>PayDate</th>\n",
       "      <th>Quantity</th>\n",
       "      <th>Dollars</th>\n",
       "      <th>Freight</th>\n",
       "      <th>Approval</th>\n",
       "    </tr>\n",
       "  </thead>\n",
       "  <tbody>\n",
       "    <tr>\n",
       "      <th>0</th>\n",
       "      <td>105</td>\n",
       "      <td>ALTAMAR BRANDS LLC</td>\n",
       "      <td>2016-01-04</td>\n",
       "      <td>8124</td>\n",
       "      <td>2015-12-21</td>\n",
       "      <td>2016-02-16</td>\n",
       "      <td>6</td>\n",
       "      <td>214.26</td>\n",
       "      <td>3.47</td>\n",
       "      <td>NaN</td>\n",
       "    </tr>\n",
       "    <tr>\n",
       "      <th>1</th>\n",
       "      <td>4466</td>\n",
       "      <td>AMERICAN VINTAGE BEVERAGE</td>\n",
       "      <td>2016-01-07</td>\n",
       "      <td>8137</td>\n",
       "      <td>2015-12-22</td>\n",
       "      <td>2016-02-21</td>\n",
       "      <td>15</td>\n",
       "      <td>140.55</td>\n",
       "      <td>8.57</td>\n",
       "      <td>NaN</td>\n",
       "    </tr>\n",
       "    <tr>\n",
       "      <th>2</th>\n",
       "      <td>388</td>\n",
       "      <td>ATLANTIC IMPORTING COMPANY</td>\n",
       "      <td>2016-01-09</td>\n",
       "      <td>8169</td>\n",
       "      <td>2015-12-24</td>\n",
       "      <td>2016-02-16</td>\n",
       "      <td>5</td>\n",
       "      <td>106.60</td>\n",
       "      <td>4.61</td>\n",
       "      <td>NaN</td>\n",
       "    </tr>\n",
       "    <tr>\n",
       "      <th>3</th>\n",
       "      <td>480</td>\n",
       "      <td>BACARDI USA INC</td>\n",
       "      <td>2016-01-12</td>\n",
       "      <td>8106</td>\n",
       "      <td>2015-12-20</td>\n",
       "      <td>2016-02-05</td>\n",
       "      <td>10100</td>\n",
       "      <td>137483.78</td>\n",
       "      <td>2935.20</td>\n",
       "      <td>NaN</td>\n",
       "    </tr>\n",
       "    <tr>\n",
       "      <th>4</th>\n",
       "      <td>516</td>\n",
       "      <td>BANFI PRODUCTS CORP</td>\n",
       "      <td>2016-01-07</td>\n",
       "      <td>8170</td>\n",
       "      <td>2015-12-24</td>\n",
       "      <td>2016-02-12</td>\n",
       "      <td>1935</td>\n",
       "      <td>15527.25</td>\n",
       "      <td>429.20</td>\n",
       "      <td>NaN</td>\n",
       "    </tr>\n",
       "  </tbody>\n",
       "</table>\n",
       "</div>"
      ],
      "text/plain": [
       "   VendorNumber                   VendorName InvoiceDate  PONumber  \\\n",
       "0           105  ALTAMAR BRANDS LLC           2016-01-04      8124   \n",
       "1          4466  AMERICAN VINTAGE BEVERAGE    2016-01-07      8137   \n",
       "2           388  ATLANTIC IMPORTING COMPANY   2016-01-09      8169   \n",
       "3           480  BACARDI USA INC              2016-01-12      8106   \n",
       "4           516  BANFI PRODUCTS CORP          2016-01-07      8170   \n",
       "\n",
       "       PODate     PayDate  Quantity    Dollars  Freight Approval  \n",
       "0  2015-12-21  2016-02-16         6     214.26     3.47      NaN  \n",
       "1  2015-12-22  2016-02-21        15     140.55     8.57      NaN  \n",
       "2  2015-12-24  2016-02-16         5     106.60     4.61      NaN  \n",
       "3  2015-12-20  2016-02-05     10100  137483.78  2935.20      NaN  \n",
       "4  2015-12-24  2016-02-12      1935   15527.25   429.20      NaN  "
      ]
     },
     "execution_count": 34,
     "metadata": {},
     "output_type": "execute_result"
    }
   ],
   "source": [
    "invoice_data.head()"
   ]
  },
  {
   "cell_type": "code",
   "execution_count": 35,
   "id": "bf7be64d-880d-4b9b-88d7-4582c26840d8",
   "metadata": {},
   "outputs": [
    {
     "name": "stdout",
     "output_type": "stream",
     "text": [
      "VendorNumber       0\n",
      "VendorName         0\n",
      "InvoiceDate        0\n",
      "PONumber           0\n",
      "PODate             0\n",
      "PayDate            0\n",
      "Quantity           0\n",
      "Dollars            0\n",
      "Freight            0\n",
      "Approval        5169\n",
      "dtype: int64\n"
     ]
    }
   ],
   "source": [
    "print(invoice_data.isnull().sum())"
   ]
  },
  {
   "cell_type": "code",
   "execution_count": 36,
   "id": "e4b6df19-ab82-4fae-9fc9-d772cbade26d",
   "metadata": {},
   "outputs": [
    {
     "name": "stdout",
     "output_type": "stream",
     "text": [
      "0\n"
     ]
    }
   ],
   "source": [
    "print(invoice_data.duplicated().sum())"
   ]
  },
  {
   "cell_type": "code",
   "execution_count": 37,
   "id": "73693ff8-586c-48db-93ad-072e862c9aec",
   "metadata": {},
   "outputs": [],
   "source": [
    "date_cols = ['InvoiceDate', 'PODate', 'PayDate'] \n",
    "\n",
    "for col in date_cols:\n",
    "    invoice_data[col] = pd.to_datetime(invoice_data[col])"
   ]
  },
  {
   "cell_type": "code",
   "execution_count": 38,
   "id": "a032781e-cd35-4519-8b1a-7a507ce39c8a",
   "metadata": {},
   "outputs": [
    {
     "name": "stdout",
     "output_type": "stream",
     "text": [
      "<class 'pandas.core.frame.DataFrame'>\n",
      "RangeIndex: 5543 entries, 0 to 5542\n",
      "Data columns (total 10 columns):\n",
      " #   Column        Non-Null Count  Dtype         \n",
      "---  ------        --------------  -----         \n",
      " 0   VendorNumber  5543 non-null   int64         \n",
      " 1   VendorName    5543 non-null   object        \n",
      " 2   InvoiceDate   5543 non-null   datetime64[ns]\n",
      " 3   PONumber      5543 non-null   int64         \n",
      " 4   PODate        5543 non-null   datetime64[ns]\n",
      " 5   PayDate       5543 non-null   datetime64[ns]\n",
      " 6   Quantity      5543 non-null   int64         \n",
      " 7   Dollars       5543 non-null   float64       \n",
      " 8   Freight       5543 non-null   float64       \n",
      " 9   Approval      374 non-null    object        \n",
      "dtypes: datetime64[ns](3), float64(2), int64(3), object(2)\n",
      "memory usage: 433.2+ KB\n",
      "None\n"
     ]
    }
   ],
   "source": [
    "print(invoice_data.info())"
   ]
  },
  {
   "cell_type": "markdown",
   "id": "15090d97-4dc2-4a12-aff9-3e5e576e9b55",
   "metadata": {},
   "source": [
    "### 🔹3.5: **'purchase_records'** dataset"
   ]
  },
  {
   "cell_type": "code",
   "execution_count": 40,
   "id": "2a62ff3f-04e1-4f7f-bc18-11df3219dfac",
   "metadata": {},
   "outputs": [
    {
     "data": {
      "text/plain": [
       "(2372474, 16)"
      ]
     },
     "execution_count": 40,
     "metadata": {},
     "output_type": "execute_result"
    }
   ],
   "source": [
    "purchase_records.shape"
   ]
  },
  {
   "cell_type": "code",
   "execution_count": 41,
   "id": "0c8084c7-e257-45a5-be6e-efd9fe971b13",
   "metadata": {},
   "outputs": [
    {
     "data": {
      "text/html": [
       "<div>\n",
       "<style scoped>\n",
       "    .dataframe tbody tr th:only-of-type {\n",
       "        vertical-align: middle;\n",
       "    }\n",
       "\n",
       "    .dataframe tbody tr th {\n",
       "        vertical-align: top;\n",
       "    }\n",
       "\n",
       "    .dataframe thead th {\n",
       "        text-align: right;\n",
       "    }\n",
       "</style>\n",
       "<table border=\"1\" class=\"dataframe\">\n",
       "  <thead>\n",
       "    <tr style=\"text-align: right;\">\n",
       "      <th></th>\n",
       "      <th>InventoryId</th>\n",
       "      <th>Store</th>\n",
       "      <th>Brand</th>\n",
       "      <th>Description</th>\n",
       "      <th>Size</th>\n",
       "      <th>VendorNumber</th>\n",
       "      <th>VendorName</th>\n",
       "      <th>PONumber</th>\n",
       "      <th>PODate</th>\n",
       "      <th>ReceivingDate</th>\n",
       "      <th>InvoiceDate</th>\n",
       "      <th>PayDate</th>\n",
       "      <th>PurchasePrice</th>\n",
       "      <th>Quantity</th>\n",
       "      <th>Dollars</th>\n",
       "      <th>Classification</th>\n",
       "    </tr>\n",
       "  </thead>\n",
       "  <tbody>\n",
       "    <tr>\n",
       "      <th>0</th>\n",
       "      <td>69_MOUNTMEND_8412</td>\n",
       "      <td>69</td>\n",
       "      <td>8412</td>\n",
       "      <td>Tequila Ocho Plata Fresno</td>\n",
       "      <td>750mL</td>\n",
       "      <td>105</td>\n",
       "      <td>ALTAMAR BRANDS LLC</td>\n",
       "      <td>8124</td>\n",
       "      <td>2015-12-21</td>\n",
       "      <td>2016-01-02</td>\n",
       "      <td>2016-01-04</td>\n",
       "      <td>2016-02-16</td>\n",
       "      <td>35.71</td>\n",
       "      <td>6</td>\n",
       "      <td>214.26</td>\n",
       "      <td>1</td>\n",
       "    </tr>\n",
       "    <tr>\n",
       "      <th>1</th>\n",
       "      <td>30_CULCHETH_5255</td>\n",
       "      <td>30</td>\n",
       "      <td>5255</td>\n",
       "      <td>TGI Fridays Ultimte Mudslide</td>\n",
       "      <td>1.75L</td>\n",
       "      <td>4466</td>\n",
       "      <td>AMERICAN VINTAGE BEVERAGE</td>\n",
       "      <td>8137</td>\n",
       "      <td>2015-12-22</td>\n",
       "      <td>2016-01-01</td>\n",
       "      <td>2016-01-07</td>\n",
       "      <td>2016-02-21</td>\n",
       "      <td>9.35</td>\n",
       "      <td>4</td>\n",
       "      <td>37.40</td>\n",
       "      <td>1</td>\n",
       "    </tr>\n",
       "    <tr>\n",
       "      <th>2</th>\n",
       "      <td>34_PITMERDEN_5215</td>\n",
       "      <td>34</td>\n",
       "      <td>5215</td>\n",
       "      <td>TGI Fridays Long Island Iced</td>\n",
       "      <td>1.75L</td>\n",
       "      <td>4466</td>\n",
       "      <td>AMERICAN VINTAGE BEVERAGE</td>\n",
       "      <td>8137</td>\n",
       "      <td>2015-12-22</td>\n",
       "      <td>2016-01-02</td>\n",
       "      <td>2016-01-07</td>\n",
       "      <td>2016-02-21</td>\n",
       "      <td>9.41</td>\n",
       "      <td>5</td>\n",
       "      <td>47.05</td>\n",
       "      <td>1</td>\n",
       "    </tr>\n",
       "    <tr>\n",
       "      <th>3</th>\n",
       "      <td>1_HARDERSFIELD_5255</td>\n",
       "      <td>1</td>\n",
       "      <td>5255</td>\n",
       "      <td>TGI Fridays Ultimte Mudslide</td>\n",
       "      <td>1.75L</td>\n",
       "      <td>4466</td>\n",
       "      <td>AMERICAN VINTAGE BEVERAGE</td>\n",
       "      <td>8137</td>\n",
       "      <td>2015-12-22</td>\n",
       "      <td>2016-01-01</td>\n",
       "      <td>2016-01-07</td>\n",
       "      <td>2016-02-21</td>\n",
       "      <td>9.35</td>\n",
       "      <td>6</td>\n",
       "      <td>56.10</td>\n",
       "      <td>1</td>\n",
       "    </tr>\n",
       "    <tr>\n",
       "      <th>4</th>\n",
       "      <td>76_DONCASTER_2034</td>\n",
       "      <td>76</td>\n",
       "      <td>2034</td>\n",
       "      <td>Glendalough Double Barrel</td>\n",
       "      <td>750mL</td>\n",
       "      <td>388</td>\n",
       "      <td>ATLANTIC IMPORTING COMPANY</td>\n",
       "      <td>8169</td>\n",
       "      <td>2015-12-24</td>\n",
       "      <td>2016-01-02</td>\n",
       "      <td>2016-01-09</td>\n",
       "      <td>2016-02-16</td>\n",
       "      <td>21.32</td>\n",
       "      <td>5</td>\n",
       "      <td>106.60</td>\n",
       "      <td>1</td>\n",
       "    </tr>\n",
       "  </tbody>\n",
       "</table>\n",
       "</div>"
      ],
      "text/plain": [
       "           InventoryId  Store  Brand                   Description   Size  \\\n",
       "0    69_MOUNTMEND_8412     69   8412     Tequila Ocho Plata Fresno  750mL   \n",
       "1     30_CULCHETH_5255     30   5255  TGI Fridays Ultimte Mudslide  1.75L   \n",
       "2    34_PITMERDEN_5215     34   5215  TGI Fridays Long Island Iced  1.75L   \n",
       "3  1_HARDERSFIELD_5255      1   5255  TGI Fridays Ultimte Mudslide  1.75L   \n",
       "4    76_DONCASTER_2034     76   2034     Glendalough Double Barrel  750mL   \n",
       "\n",
       "   VendorNumber                   VendorName  PONumber      PODate  \\\n",
       "0           105  ALTAMAR BRANDS LLC               8124  2015-12-21   \n",
       "1          4466  AMERICAN VINTAGE BEVERAGE        8137  2015-12-22   \n",
       "2          4466  AMERICAN VINTAGE BEVERAGE        8137  2015-12-22   \n",
       "3          4466  AMERICAN VINTAGE BEVERAGE        8137  2015-12-22   \n",
       "4           388  ATLANTIC IMPORTING COMPANY       8169  2015-12-24   \n",
       "\n",
       "  ReceivingDate InvoiceDate     PayDate  PurchasePrice  Quantity  Dollars  \\\n",
       "0    2016-01-02  2016-01-04  2016-02-16          35.71         6   214.26   \n",
       "1    2016-01-01  2016-01-07  2016-02-21           9.35         4    37.40   \n",
       "2    2016-01-02  2016-01-07  2016-02-21           9.41         5    47.05   \n",
       "3    2016-01-01  2016-01-07  2016-02-21           9.35         6    56.10   \n",
       "4    2016-01-02  2016-01-09  2016-02-16          21.32         5   106.60   \n",
       "\n",
       "   Classification  \n",
       "0               1  \n",
       "1               1  \n",
       "2               1  \n",
       "3               1  \n",
       "4               1  "
      ]
     },
     "execution_count": 41,
     "metadata": {},
     "output_type": "execute_result"
    }
   ],
   "source": [
    "purchase_records.head()"
   ]
  },
  {
   "cell_type": "code",
   "execution_count": 42,
   "id": "f5b035b2-dc59-496d-b5a1-c8fea8eb4e9c",
   "metadata": {},
   "outputs": [
    {
     "name": "stdout",
     "output_type": "stream",
     "text": [
      "InventoryId       0\n",
      "Store             0\n",
      "Brand             0\n",
      "Description       0\n",
      "Size              3\n",
      "VendorNumber      0\n",
      "VendorName        0\n",
      "PONumber          0\n",
      "PODate            0\n",
      "ReceivingDate     0\n",
      "InvoiceDate       0\n",
      "PayDate           0\n",
      "PurchasePrice     0\n",
      "Quantity          0\n",
      "Dollars           0\n",
      "Classification    0\n",
      "dtype: int64\n"
     ]
    }
   ],
   "source": [
    "print(purchase_records.isnull().sum())"
   ]
  },
  {
   "cell_type": "code",
   "execution_count": 43,
   "id": "b4a1f75e-5e79-42ea-958b-6187de835fba",
   "metadata": {},
   "outputs": [],
   "source": [
    "purchase_records.dropna(inplace = True)"
   ]
  },
  {
   "cell_type": "code",
   "execution_count": 44,
   "id": "314ee8a1-af7c-4ba1-a278-1be71163827a",
   "metadata": {},
   "outputs": [
    {
     "data": {
      "text/plain": [
       "0"
      ]
     },
     "execution_count": 44,
     "metadata": {},
     "output_type": "execute_result"
    }
   ],
   "source": [
    "purchase_records.duplicated().sum()"
   ]
  },
  {
   "cell_type": "code",
   "execution_count": 45,
   "id": "e5468118-61bf-4396-a5b4-59efddfeb34c",
   "metadata": {},
   "outputs": [],
   "source": [
    "date_columns = ['PODate', 'ReceivingDate', 'InvoiceDate', 'PayDate']\n",
    "\n",
    "for column in date_columns:\n",
    "    purchase_records[column] = pd.to_datetime(purchase_records[column])"
   ]
  },
  {
   "cell_type": "code",
   "execution_count": 46,
   "id": "3f871e8f-a379-46fd-af6e-d014d27801cc",
   "metadata": {},
   "outputs": [
    {
     "name": "stdout",
     "output_type": "stream",
     "text": [
      "<class 'pandas.core.frame.DataFrame'>\n",
      "Index: 2372471 entries, 0 to 2372473\n",
      "Data columns (total 16 columns):\n",
      " #   Column          Dtype         \n",
      "---  ------          -----         \n",
      " 0   InventoryId     object        \n",
      " 1   Store           int64         \n",
      " 2   Brand           int64         \n",
      " 3   Description     object        \n",
      " 4   Size            object        \n",
      " 5   VendorNumber    int64         \n",
      " 6   VendorName      object        \n",
      " 7   PONumber        int64         \n",
      " 8   PODate          datetime64[ns]\n",
      " 9   ReceivingDate   datetime64[ns]\n",
      " 10  InvoiceDate     datetime64[ns]\n",
      " 11  PayDate         datetime64[ns]\n",
      " 12  PurchasePrice   float64       \n",
      " 13  Quantity        int64         \n",
      " 14  Dollars         float64       \n",
      " 15  Classification  int64         \n",
      "dtypes: datetime64[ns](4), float64(2), int64(6), object(4)\n",
      "memory usage: 307.7+ MB\n",
      "None\n"
     ]
    }
   ],
   "source": [
    "print(purchase_records.info())"
   ]
  },
  {
   "cell_type": "markdown",
   "id": "d53d0da1-a5e4-4778-aa70-022b34a66841",
   "metadata": {},
   "source": [
    "### 🔹3.6: **'sales_data'** dataset"
   ]
  },
  {
   "cell_type": "code",
   "execution_count": 48,
   "id": "0c13d9d5-fcf9-4644-94d8-cbd860082ea5",
   "metadata": {},
   "outputs": [
    {
     "data": {
      "text/plain": [
       "(1048575, 14)"
      ]
     },
     "execution_count": 48,
     "metadata": {},
     "output_type": "execute_result"
    }
   ],
   "source": [
    "sales_data.shape"
   ]
  },
  {
   "cell_type": "code",
   "execution_count": 49,
   "id": "cd3c2025-51b7-4596-b6af-9a0f6aa745df",
   "metadata": {},
   "outputs": [
    {
     "data": {
      "text/html": [
       "<div>\n",
       "<style scoped>\n",
       "    .dataframe tbody tr th:only-of-type {\n",
       "        vertical-align: middle;\n",
       "    }\n",
       "\n",
       "    .dataframe tbody tr th {\n",
       "        vertical-align: top;\n",
       "    }\n",
       "\n",
       "    .dataframe thead th {\n",
       "        text-align: right;\n",
       "    }\n",
       "</style>\n",
       "<table border=\"1\" class=\"dataframe\">\n",
       "  <thead>\n",
       "    <tr style=\"text-align: right;\">\n",
       "      <th></th>\n",
       "      <th>InventoryId</th>\n",
       "      <th>Store</th>\n",
       "      <th>Brand</th>\n",
       "      <th>Description</th>\n",
       "      <th>Size</th>\n",
       "      <th>SalesQuantity</th>\n",
       "      <th>SalesDollars</th>\n",
       "      <th>SalesPrice</th>\n",
       "      <th>SalesDate</th>\n",
       "      <th>Volume</th>\n",
       "      <th>Classification</th>\n",
       "      <th>ExciseTax</th>\n",
       "      <th>VendorNo</th>\n",
       "      <th>VendorName</th>\n",
       "    </tr>\n",
       "  </thead>\n",
       "  <tbody>\n",
       "    <tr>\n",
       "      <th>0</th>\n",
       "      <td>1_HARDERSFIELD_1004</td>\n",
       "      <td>1</td>\n",
       "      <td>1004</td>\n",
       "      <td>Jim Beam w/2 Rocks Glasses</td>\n",
       "      <td>750mL</td>\n",
       "      <td>1</td>\n",
       "      <td>16.49</td>\n",
       "      <td>16.49</td>\n",
       "      <td>1/1/2016</td>\n",
       "      <td>750</td>\n",
       "      <td>1</td>\n",
       "      <td>0.79</td>\n",
       "      <td>12546</td>\n",
       "      <td>JIM BEAM BRANDS COMPANY</td>\n",
       "    </tr>\n",
       "    <tr>\n",
       "      <th>1</th>\n",
       "      <td>1_HARDERSFIELD_1004</td>\n",
       "      <td>1</td>\n",
       "      <td>1004</td>\n",
       "      <td>Jim Beam w/2 Rocks Glasses</td>\n",
       "      <td>750mL</td>\n",
       "      <td>2</td>\n",
       "      <td>32.98</td>\n",
       "      <td>16.49</td>\n",
       "      <td>1/2/2016</td>\n",
       "      <td>750</td>\n",
       "      <td>1</td>\n",
       "      <td>1.57</td>\n",
       "      <td>12546</td>\n",
       "      <td>JIM BEAM BRANDS COMPANY</td>\n",
       "    </tr>\n",
       "    <tr>\n",
       "      <th>2</th>\n",
       "      <td>1_HARDERSFIELD_1004</td>\n",
       "      <td>1</td>\n",
       "      <td>1004</td>\n",
       "      <td>Jim Beam w/2 Rocks Glasses</td>\n",
       "      <td>750mL</td>\n",
       "      <td>1</td>\n",
       "      <td>16.49</td>\n",
       "      <td>16.49</td>\n",
       "      <td>1/3/2016</td>\n",
       "      <td>750</td>\n",
       "      <td>1</td>\n",
       "      <td>0.79</td>\n",
       "      <td>12546</td>\n",
       "      <td>JIM BEAM BRANDS COMPANY</td>\n",
       "    </tr>\n",
       "    <tr>\n",
       "      <th>3</th>\n",
       "      <td>1_HARDERSFIELD_1004</td>\n",
       "      <td>1</td>\n",
       "      <td>1004</td>\n",
       "      <td>Jim Beam w/2 Rocks Glasses</td>\n",
       "      <td>750mL</td>\n",
       "      <td>1</td>\n",
       "      <td>14.49</td>\n",
       "      <td>14.49</td>\n",
       "      <td>1/8/2016</td>\n",
       "      <td>750</td>\n",
       "      <td>1</td>\n",
       "      <td>0.79</td>\n",
       "      <td>12546</td>\n",
       "      <td>JIM BEAM BRANDS COMPANY</td>\n",
       "    </tr>\n",
       "    <tr>\n",
       "      <th>4</th>\n",
       "      <td>1_HARDERSFIELD_1005</td>\n",
       "      <td>1</td>\n",
       "      <td>1005</td>\n",
       "      <td>Maker's Mark Combo Pack</td>\n",
       "      <td>375mL 2 Pk</td>\n",
       "      <td>2</td>\n",
       "      <td>69.98</td>\n",
       "      <td>34.99</td>\n",
       "      <td>1/9/2016</td>\n",
       "      <td>375</td>\n",
       "      <td>1</td>\n",
       "      <td>0.79</td>\n",
       "      <td>12546</td>\n",
       "      <td>JIM BEAM BRANDS COMPANY</td>\n",
       "    </tr>\n",
       "  </tbody>\n",
       "</table>\n",
       "</div>"
      ],
      "text/plain": [
       "           InventoryId  Store  Brand                 Description        Size  \\\n",
       "0  1_HARDERSFIELD_1004      1   1004  Jim Beam w/2 Rocks Glasses       750mL   \n",
       "1  1_HARDERSFIELD_1004      1   1004  Jim Beam w/2 Rocks Glasses       750mL   \n",
       "2  1_HARDERSFIELD_1004      1   1004  Jim Beam w/2 Rocks Glasses       750mL   \n",
       "3  1_HARDERSFIELD_1004      1   1004  Jim Beam w/2 Rocks Glasses       750mL   \n",
       "4  1_HARDERSFIELD_1005      1   1005     Maker's Mark Combo Pack  375mL 2 Pk   \n",
       "\n",
       "   SalesQuantity  SalesDollars  SalesPrice SalesDate  Volume  Classification  \\\n",
       "0              1         16.49       16.49  1/1/2016     750               1   \n",
       "1              2         32.98       16.49  1/2/2016     750               1   \n",
       "2              1         16.49       16.49  1/3/2016     750               1   \n",
       "3              1         14.49       14.49  1/8/2016     750               1   \n",
       "4              2         69.98       34.99  1/9/2016     375               1   \n",
       "\n",
       "   ExciseTax  VendorNo                   VendorName  \n",
       "0       0.79     12546  JIM BEAM BRANDS COMPANY      \n",
       "1       1.57     12546  JIM BEAM BRANDS COMPANY      \n",
       "2       0.79     12546  JIM BEAM BRANDS COMPANY      \n",
       "3       0.79     12546  JIM BEAM BRANDS COMPANY      \n",
       "4       0.79     12546  JIM BEAM BRANDS COMPANY      "
      ]
     },
     "execution_count": 49,
     "metadata": {},
     "output_type": "execute_result"
    }
   ],
   "source": [
    "sales_data.head()"
   ]
  },
  {
   "cell_type": "code",
   "execution_count": 50,
   "id": "cab78f96-b85e-4c0b-a8d6-c06906f24450",
   "metadata": {},
   "outputs": [
    {
     "name": "stdout",
     "output_type": "stream",
     "text": [
      "InventoryId       0\n",
      "Store             0\n",
      "Brand             0\n",
      "Description       0\n",
      "Size              0\n",
      "SalesQuantity     0\n",
      "SalesDollars      0\n",
      "SalesPrice        0\n",
      "SalesDate         0\n",
      "Volume            0\n",
      "Classification    0\n",
      "ExciseTax         0\n",
      "VendorNo          0\n",
      "VendorName        0\n",
      "dtype: int64\n"
     ]
    }
   ],
   "source": [
    "print(sales_data.isnull().sum())"
   ]
  },
  {
   "cell_type": "code",
   "execution_count": 51,
   "id": "c5aedee2-377a-4508-ad69-e1a7a1cb66f7",
   "metadata": {},
   "outputs": [
    {
     "name": "stdout",
     "output_type": "stream",
     "text": [
      "0\n"
     ]
    }
   ],
   "source": [
    "print(sales_data.duplicated().sum())"
   ]
  },
  {
   "cell_type": "code",
   "execution_count": 52,
   "id": "b77ddb51-3eca-4401-9cd3-930c2939643e",
   "metadata": {},
   "outputs": [],
   "source": [
    "sales_data['SalesDate'] = pd.to_datetime(sales_data['SalesDate'])"
   ]
  },
  {
   "cell_type": "code",
   "execution_count": 53,
   "id": "5d9cd7a1-db5f-4022-a34e-c058f45c8c4a",
   "metadata": {},
   "outputs": [
    {
     "name": "stdout",
     "output_type": "stream",
     "text": [
      "<class 'pandas.core.frame.DataFrame'>\n",
      "RangeIndex: 1048575 entries, 0 to 1048574\n",
      "Data columns (total 14 columns):\n",
      " #   Column          Non-Null Count    Dtype         \n",
      "---  ------          --------------    -----         \n",
      " 0   InventoryId     1048575 non-null  object        \n",
      " 1   Store           1048575 non-null  int64         \n",
      " 2   Brand           1048575 non-null  int64         \n",
      " 3   Description     1048575 non-null  object        \n",
      " 4   Size            1048575 non-null  object        \n",
      " 5   SalesQuantity   1048575 non-null  int64         \n",
      " 6   SalesDollars    1048575 non-null  float64       \n",
      " 7   SalesPrice      1048575 non-null  float64       \n",
      " 8   SalesDate       1048575 non-null  datetime64[ns]\n",
      " 9   Volume          1048575 non-null  int64         \n",
      " 10  Classification  1048575 non-null  int64         \n",
      " 11  ExciseTax       1048575 non-null  float64       \n",
      " 12  VendorNo        1048575 non-null  int64         \n",
      " 13  VendorName      1048575 non-null  object        \n",
      "dtypes: datetime64[ns](1), float64(3), int64(6), object(4)\n",
      "memory usage: 112.0+ MB\n",
      "None\n"
     ]
    }
   ],
   "source": [
    "print(sales_data.info())"
   ]
  },
  {
   "cell_type": "markdown",
   "id": "c1e75a5e-a104-4522-b92d-865d8d0198e0",
   "metadata": {},
   "source": [
    "## 📊 Step 4: Exploratory Data Analysis"
   ]
  },
  {
   "cell_type": "markdown",
   "id": "4a096304-ef89-4b3e-b1a8-5dd8aa9aebb8",
   "metadata": {},
   "source": [
    "### ✅ Top 10 Vendor by Puchase Amount"
   ]
  },
  {
   "cell_type": "code",
   "execution_count": 56,
   "id": "73b6ae55-eb42-4b09-9c19-157b12c35783",
   "metadata": {},
   "outputs": [
    {
     "data": {
      "image/png": "[encoded data removed]",
      "text/plain": [
       "<Figure size 1000x600 with 1 Axes>"
      ]
     },
     "metadata": {},
     "output_type": "display_data"
    }
   ],
   "source": [
    "import matplotlib.ticker as ticker\n",
    "\n",
    "top_vendors = invoice_data.groupby('VendorName')['Dollars'].sum().sort_values(ascending=False).head(10)\n",
    "top_vendors_df = top_vendors.reset_index()\n",
    "top_vendors_df.columns = ['VendorName', 'TotalDollars']\n",
    "\n",
    "plt.figure(figsize=(10,6))\n",
    "sns.barplot(x = 'TotalDollars', y = 'VendorName',\n",
    "            data = top_vendors_df,\n",
    "            hue = 'VendorName',\n",
    "            palette='viridis',\n",
    "            legend = False)\n",
    "\n",
    "plt.title('Top 10 Vendors by Purchse Amount')\n",
    "plt.xlabel('Total Purchase Amount ($)')\n",
    "plt.ylabel('Vendor Name')\n",
    "\n",
    "# 👇 THIS LINE fixes the scientific notation\n",
    "plt.gca().xaxis.set_major_formatter(ticker.FuncFormatter(lambda x, _: f'${int(x/1e6)}M'))\n",
    "\n",
    "plt.tight_layout()\n",
    "plt.show()"
   ]
  },
  {
   "cell_type": "markdown",
   "id": "d964be59-d389-418d-9ff6-a1e204f1f3da",
   "metadata": {},
   "source": [
    "🔍 **Insights**:\n",
    "\n",
    "The bar chart highlights the top 10 vendors based on total purchase value.\n",
    "\n",
    "- **Diageo North America Inc** leads by a large margin, indicating a heavy concentration of purchasing with a single vendor.\n",
    "- **Martignetti Companies** and **Jim Beam Brands Company** also contribute significantly, forming the next tier of high-volume vendors.\n",
    "- Monitoring these top vendors' performance and negotiating bulk purchasing agreements could help optimize procurement costs."
   ]
  },
  {
   "cell_type": "markdown",
   "id": "d5f0b87e-4e4f-4c63-b662-9d8c30c6d787",
   "metadata": {},
   "source": [
    "### ✅ Top 5 Vendors by Product Count"
   ]
  },
  {
   "cell_type": "code",
   "execution_count": 60,
   "id": "9f32dae9-9ba4-45cf-8fa8-e1407c4f581d",
   "metadata": {},
   "outputs": [
    {
     "data": {
      "image/png": "[encoded data removed]",
      "text/plain": [
       "<Figure size 300x300 with 1 Axes>"
      ]
     },
     "metadata": {},
     "output_type": "display_data"
    }
   ],
   "source": [
    "plt.figure(figsize=(3,3))\n",
    "mylabels = [\"MARTIGNETTI COMPANIES\", \"ULTRA BEVERAGE COMPANY LLP\", \"M S WALKER INC\", \"PERFECTA WINES\", \"E & J GALLO WINERY\"]\n",
    "\n",
    "plt.pie(product_prices.VendorName.value_counts()[0:5], \n",
    "        labels = mylabels, \n",
    "        autopct = '%0.1f%%', \n",
    "        radius = 1.25, \n",
    "        wedgeprops = {'edgecolor' : 'white'},\n",
    "        textprops = {'size':10,}, shadow=True)\n",
    "plt.title('Top 5 Vendors\\n')\n",
    "plt.show()"
   ]
  },
  {
   "cell_type": "markdown",
   "id": "b9741466-b096-4009-836a-468c79b724a7",
   "metadata": {},
   "source": [
    "🔍 **Insights**:\n",
    "\n",
    "The pie chart shows the top 5 vendors based on how many unique products they supply in the dataset.\n",
    "\n",
    "- **Martignetti Companies** and **Ultra Beverage Company LLP** together account for the largest share of products.\n",
    "- The distribution is slightly skewed, with the top 3 vendors contributing over half of the product variety."
   ]
  },
  {
   "cell_type": "markdown",
   "id": "45fff964-2f7f-41e8-9861-a97e3bace5ce",
   "metadata": {},
   "source": []
  },
  {
   "cell_type": "markdown",
   "id": "1d6fffc4-0c80-4c3d-8c39-c5627ce54ea9",
   "metadata": {},
   "source": [
    "🔍 Comparing Vendor Product Variety and Purchase Amount\n",
    "\n",
    "While **Diageo North America Inc** leads in total purchase value, it does not appear in the top 5 vendors by product variety — indicating high-value or high-volume purchases of fewer items.\n",
    "\n",
    "On the other hand, **Martignetti Companies** ranks high on both product variety and spend, making it a key supplier in terms of both diversity and volume.\n",
    "\n",
    "Vendors like **Ultra Beverage**, **M S Walker Inc**, and **E & J Gallo Winery** supply a wide variety of products but represent a smaller share of total spending, which could indicate lower average purchase volume per product.\n",
    "\n",
    "This contrast highlights how vendor performance can vary based on different metrics — both **diversity** and **volume** matter when evaluating supplier impact."
   ]
  },
  {
   "cell_type": "markdown",
   "id": "a32b893a-9e62-4c07-a4c6-436072b1bf38",
   "metadata": {},
   "source": [
    "### ✅ Top 10 Selling Products (by Quantity)"
   ]
  },
  {
   "cell_type": "code",
   "execution_count": 65,
   "id": "88e12f6d-b958-4f86-9560-46ffcb2854ff",
   "metadata": {},
   "outputs": [
    {
     "name": "stderr",
     "output_type": "stream",
     "text": [
      "C:\\Users\\Admin\\AppData\\Local\\Temp\\ipykernel_29512\\1420148361.py:4: FutureWarning: \n",
      "\n",
      "Passing `palette` without assigning `hue` is deprecated and will be removed in v0.14.0. Assign the `y` variable to `hue` and set `legend=False` for the same effect.\n",
      "\n",
      "  sns.barplot(x=top_products.values, y=top_products.index, palette='crest')\n"
     ]
    },
    {
     "data": {
      "image/png": "[encoded data removed]",
      "text/plain": [
       "<Figure size 1000x600 with 1 Axes>"
      ]
     },
     "metadata": {},
     "output_type": "display_data"
    }
   ],
   "source": [
    "top_products = sales_data.groupby('Description')['SalesQuantity'].sum().sort_values(ascending=False).head(10)\n",
    "\n",
    "plt.figure(figsize=(10,6))\n",
    "sns.barplot(x=top_products.values, y=top_products.index, palette='crest')\n",
    "plt.title('Top 10 Selling Products (by Quantity)')\n",
    "plt.xlabel('Units Sold')\n",
    "plt.ylabel('Product')\n",
    "plt.tight_layout()\n",
    "plt.show()"
   ]
  },
  {
   "cell_type": "markdown",
   "id": "9490a5fb-a047-482f-b4a3-807c754cc5c6",
   "metadata": {},
   "source": [
    "🔍 **Insights:**\n",
    "\n",
    "**Smirnoff 80 Proof** and **Captain Morgan Spiced Rum** lead in total units sold, indicating high customer demand and brand popularity.\n",
    "\n",
    "These top products can be prioritized in inventory planning to maintain availability and avoid stockouts.\n"
   ]
  },
  {
   "cell_type": "markdown",
   "id": "4d88130d-da22-4b08-8069-d81b1d1fbed0",
   "metadata": {},
   "source": [
    "### ✅ Begin vs End Inventory by Store (Top 10)"
   ]
  },
  {
   "cell_type": "code",
   "execution_count": 68,
   "id": "60317545-722b-4ec9-a6e2-6a61d93f533d",
   "metadata": {},
   "outputs": [
    {
     "data": {
      "image/png": "[encoded data removed]",
      "text/plain": [
       "<Figure size 1000x600 with 1 Axes>"
      ]
     },
     "metadata": {},
     "output_type": "display_data"
    }
   ],
   "source": [
    "beg = beg_inventory.groupby('Store')['onHand'].sum()\n",
    "end = end_inventory.groupby('Store')['onHand'].sum()\n",
    "inv_compare = pd.DataFrame({'Begin': beg, 'End': end}).dropna().sort_values('Begin', ascending=False).head(10)\n",
    "\n",
    "inv_compare.plot(kind='bar', figsize=(10,6), color=['skyblue', 'salmon'])\n",
    "plt.title('Begin vs End Inventory by Store (Top 10)')\n",
    "plt.xlabel('Store')\n",
    "plt.ylabel('Units on Hand')\n",
    "plt.xticks(rotation=45)\n",
    "plt.tight_layout()\n",
    "plt.show()"
   ]
  },
  {
   "cell_type": "markdown",
   "id": "86b8a7d5-903a-43a8-b60c-605f7542269c",
   "metadata": {},
   "source": [
    "🔍 **Insights:**\n",
    "\n",
    "Most stores show a slight increase in ending inventory compared to beginning inventory, indicating stable stock levels.\n",
    "\n",
    "However, **Store 50** stands out with a significant spike in ending inventory, which may suggest overstocking or slower sales performance at that location.\n",
    "\n",
    "This calls for further investigation to optimize stock distribution across stores.\n"
   ]
  },
  {
   "cell_type": "markdown",
   "id": "e13e44cb-d8df-46f3-a5a3-95e9d40e9c52",
   "metadata": {},
   "source": [
    "**↓** Deeper investigation into Store 50's Inventory Spike"
   ]
  },
  {
   "cell_type": "code",
   "execution_count": 71,
   "id": "49104deb-f272-4bb6-8e77-af463268670b",
   "metadata": {},
   "outputs": [
    {
     "name": "stdout",
     "output_type": "stream",
     "text": [
      "Total units sold at Store 50: 59756\n"
     ]
    }
   ],
   "source": [
    "sales_store_50 = sales_data[sales_data['Store'] == 50]\n",
    "total_sales_50 = sales_store_50['SalesQuantity'].sum()\n",
    "print(\"Total units sold at Store 50:\", total_sales_50)"
   ]
  },
  {
   "cell_type": "code",
   "execution_count": 72,
   "id": "b3b9c11f-d4e7-43fd-b35f-8b1354779fa7",
   "metadata": {},
   "outputs": [
    {
     "name": "stdout",
     "output_type": "stream",
     "text": [
      "Description\n",
      "Integre Vodka              3676\n",
      "Bacardi Superior Rum       2378\n",
      "Jack Daniels No 7 Black    2058\n",
      "Baileys Irish Cream        1892\n",
      "Jameson Irish Whiskey      1889\n",
      "Absolut 80 Proof           1847\n",
      "Tito's Handmade Vodka      1822\n",
      "Capt Morgan Spiced Rum     1783\n",
      "Integre Citrus Vodka       1778\n",
      "Ketel One Vodka            1721\n",
      "Name: onHand, dtype: int64\n"
     ]
    }
   ],
   "source": [
    "products_store_50 = end_inventory[end_inventory['Store'] == 50]\n",
    "top_products_50 = products_store_50.groupby('Description')['onHand'].sum().sort_values(ascending=False).head(10)\n",
    "print(top_products_50)"
   ]
  },
  {
   "cell_type": "code",
   "execution_count": 73,
   "id": "ad447ef1-c7db-4dbd-a84b-a95cd05c00f5",
   "metadata": {},
   "outputs": [
    {
     "name": "stdout",
     "output_type": "stream",
     "text": [
      "Begin: 94720 End: 260717 Change: 165997\n"
     ]
    }
   ],
   "source": [
    "beg_50 = beg_inventory[beg_inventory['Store'] == 50]['onHand'].sum()\n",
    "end_50 = end_inventory[end_inventory['Store'] == 50]['onHand'].sum()\n",
    "print(\"Begin:\", beg_50, \"End:\", end_50, \"Change:\", end_50 - beg_50)"
   ]
  },
  {
   "cell_type": "code",
   "execution_count": 74,
   "id": "eb1f75b8-9a74-4ca2-bcf4-cd2d06c33ec7",
   "metadata": {},
   "outputs": [
    {
     "name": "stdout",
     "output_type": "stream",
     "text": [
      "Turnover Ratio (Store 50): 0.34\n"
     ]
    }
   ],
   "source": [
    "turnover_50 = total_sales_50 / ((beg_50 + end_50)/2)\n",
    "print(\"Turnover Ratio (Store 50):\", round(turnover_50, 2))"
   ]
  },
  {
   "cell_type": "markdown",
   "id": "d126661d-46f3-4a56-9554-10ea1453316a",
   "metadata": {},
   "source": [
    "🔍 **Deeper Insight: Store 50 Inventory Spike**\n",
    "\n",
    "Store 50 experienced a significant rise in inventory — from 94,720 to 260,717 units — despite recording moderate sales of 59,756 units.\n",
    "\n",
    "With a turnover ratio of just **0.34**, this store shows signs of **overstocking and low product movement**. The top stocked items, including Integre Vodka and Bacardi Superior Rum, may not be aligned with demand at this location.\n",
    "\n",
    "This suggests a need to **review stocking strategies** for Store 50 and redistribute inventory based on local demand trends.\n"
   ]
  },
  {
   "cell_type": "markdown",
   "id": "ba7999b5-9758-43e9-ad0d-02fbc68d98f2",
   "metadata": {},
   "source": [
    "### ✅ Top 10 Fastest Vendors (Avg Lead Time in Days)"
   ]
  },
  {
   "cell_type": "code",
   "execution_count": 77,
   "id": "d6be39dc-2406-4fc5-8592-72596e1f6d7c",
   "metadata": {},
   "outputs": [
    {
     "name": "stderr",
     "output_type": "stream",
     "text": [
      "C:\\Users\\Admin\\AppData\\Local\\Temp\\ipykernel_29512\\245386104.py:6: FutureWarning: \n",
      "\n",
      "Passing `palette` without assigning `hue` is deprecated and will be removed in v0.14.0. Assign the `y` variable to `hue` and set `legend=False` for the same effect.\n",
      "\n",
      "  sns.barplot(x=lead_time.values, y=lead_time.index, palette='flare')\n"
     ]
    },
    {
     "data": {
      "image/png": "[encoded data removed]",
      "text/plain": [
       "<Figure size 1000x600 with 1 Axes>"
      ]
     },
     "metadata": {},
     "output_type": "display_data"
    }
   ],
   "source": [
    "invoice_data['LeadTime'] = (invoice_data['PayDate'] - invoice_data['PODate']).dt.days\n",
    "\n",
    "lead_time = invoice_data.groupby('VendorName')['LeadTime'].mean().sort_values().head()\n",
    "\n",
    "plt.figure(figsize=(10,6))\n",
    "sns.barplot(x=lead_time.values, y=lead_time.index, palette='flare')\n",
    "plt.title('Top 10 Fastest Vendors (Avg Lead Time in Days)')\n",
    "plt.xlabel('Average Lead Time (days)')\n",
    "plt.ylabel('Vendor')\n",
    "plt.tight_layout()\n",
    "plt.show()"
   ]
  },
  {
   "cell_type": "markdown",
   "id": "d4cc62d4-8ffc-42ae-847f-91149d26d124",
   "metadata": {},
   "source": [
    "🔍 **Insights:**\n",
    "\n",
    "The chart highlights the vendors with the shortest average lead times between purchase order and payment:\n",
    "\n",
    "- **Pernod Ricard USA**\n",
    "- **Diageo North America Inc**\n",
    "- **Brown-Forman Corp**\n",
    "- **Martignetti Companies**\n",
    "- **Bacardi USA Inc**\n",
    "\n",
    "These vendors consistently deliver and process payments faster than others, supporting **faster inventory turnover** and **streamlined operations**.\n",
    "\n",
    "Partnering more closely with such vendors may improve supply chain responsiveness and reduce the risk of stockouts.\n"
   ]
  },
  {
   "cell_type": "markdown",
   "id": "650570e0-4c9f-4a83-b172-29589b8724bf",
   "metadata": {},
   "source": [
    "### ✅ Top 10 Cities by Inventory on Hand"
   ]
  },
  {
   "cell_type": "code",
   "execution_count": 80,
   "id": "efc36201-115d-4928-9c48-f0986ac64184",
   "metadata": {},
   "outputs": [
    {
     "name": "stderr",
     "output_type": "stream",
     "text": [
      "C:\\Users\\Admin\\AppData\\Local\\Temp\\ipykernel_29512\\370899958.py:4: FutureWarning: \n",
      "\n",
      "Passing `palette` without assigning `hue` is deprecated and will be removed in v0.14.0. Assign the `y` variable to `hue` and set `legend=False` for the same effect.\n",
      "\n",
      "  sns.barplot(x=city_inventory.values, y=city_inventory.index, palette= 'coolwarm')\n"
     ]
    },
    {
     "data": {
      "image/png": "[encoded data removed]",
      "text/plain": [
       "<Figure size 1000x600 with 1 Axes>"
      ]
     },
     "metadata": {},
     "output_type": "display_data"
    }
   ],
   "source": [
    "city_inventory = end_inventory.groupby('City')['onHand'].sum().sort_values(ascending=False).head(10)\n",
    "\n",
    "plt.figure(figsize=(10,6))\n",
    "sns.barplot(x=city_inventory.values, y=city_inventory.index, palette= 'coolwarm')\n",
    "plt.title('Top 10 Citites by Inventory on Hand')\n",
    "plt.xlabel('Total units on Hand')\n",
    "plt.ylabel('City')\n",
    "plt.tight_layout()\n",
    "plt.show()"
   ]
  },
  {
   "cell_type": "markdown",
   "id": "8d259421-b907-4a92-a558-dc504146b65a",
   "metadata": {},
   "source": [
    "🔍 **Insights:**\n",
    "\n",
    "The chart shows that **Mountmend**, **Eanverness**, and **Doncaster** hold the highest inventory volumes across all cities.\n",
    "\n",
    "**Mountmend** stands out significantly, with total on-hand stock far exceeding the rest — indicating its role as either a major distribution hub or a potential overstock situation.\n",
    "\n",
    "This insight can guide stock reallocation strategies and help evaluate whether Mountmend’s inventory aligns with actual demand."
   ]
  },
  {
   "cell_type": "code",
   "execution_count": 89,
   "id": "d8abd721-b115-410a-83a0-450e1c630c1b",
   "metadata": {},
   "outputs": [],
   "source": [
    "store_city_map = end_inventory[['Store', 'City']].drop_duplicates()\n",
    "\n",
    "sales_data_with_city = pd.merge(sales_data, store_city_map, on='Store', how='left')"
   ]
  },
  {
   "cell_type": "code",
   "execution_count": 93,
   "id": "321ebce3-00d2-4e40-9fb5-9ca7538abaea",
   "metadata": {},
   "outputs": [
    {
     "name": "stdout",
     "output_type": "stream",
     "text": [
      "Total units sold in Mountmend: 190081\n"
     ]
    }
   ],
   "source": [
    "sales_mountmend = sales_data_with_city[sales_data_with_city['City'] == 'MOUNTMEND']\n",
    "total_sales_mountmend = sales_mountmend['SalesQuantity'].sum()\n",
    "print(\"Total units sold in Mountmend:\", total_sales_mountmend)"
   ]
  },
  {
   "cell_type": "code",
   "execution_count": 95,
   "id": "e224df52-f215-475f-b08b-796775b59340",
   "metadata": {},
   "outputs": [
    {
     "name": "stdout",
     "output_type": "stream",
     "text": [
      "Description\n",
      "Integre Vodka              4574\n",
      "Grey Goose Vodka           4110\n",
      "Bacardi Superior Rum       3903\n",
      "Baileys Irish Cream        3782\n",
      "Jameson Irish Whiskey      3763\n",
      "Absolut 80 Proof           3751\n",
      "Jack Daniels No 7 Black    3716\n",
      "Ketel One Vodka            3333\n",
      "Capt Morgan Spiced Rum     3312\n",
      "Kahlua                     2947\n",
      "Name: onHand, dtype: int64\n"
     ]
    }
   ],
   "source": [
    "city_inventory = end_inventory[end_inventory['City'] == 'MOUNTMEND']\n",
    "top_items_mountmend = city_inventory.groupby('Description')['onHand'].sum().sort_values(ascending=False).head(10)\n",
    "print(top_items_mountmend)"
   ]
  },
  {
   "cell_type": "code",
   "execution_count": 97,
   "id": "7590282b-3afa-4ca3-acbf-843661c79cf2",
   "metadata": {},
   "outputs": [
    {
     "name": "stdout",
     "output_type": "stream",
     "text": [
      "Begin: 346472 End: 531404 Change: 184932\n"
     ]
    }
   ],
   "source": [
    "beg_mountmend = beg_inventory[beg_inventory['City'] == 'MOUNTMEND']['onHand'].sum()\n",
    "end_mountmend = end_inventory[end_inventory['City'] == 'MOUNTMEND']['onHand'].sum()\n",
    "print(\"Begin:\", beg_mountmend, \"End:\", end_mountmend, \"Change:\", end_mountmend - beg_mountmend)"
   ]
  },
  {
   "cell_type": "code",
   "execution_count": 99,
   "id": "d2d34e0a-a6a5-4f5b-8661-935399f5f640",
   "metadata": {},
   "outputs": [
    {
     "name": "stdout",
     "output_type": "stream",
     "text": [
      "Turnover Ratio (Mountmend): 0.43\n"
     ]
    }
   ],
   "source": [
    "turnover_mountmend = total_sales_mountmend / ((beg_mountmend + end_mountmend)/2)\n",
    "print(\"Turnover Ratio (Mountmend):\", round(turnover_mountmend, 2))"
   ]
  },
  {
   "cell_type": "markdown",
   "id": "c72afcaa-ac0e-41fb-9a0a-eeeb69246636",
   "metadata": {},
   "source": [
    "🔍 **Follow-Up Insight: Mountmend Inventory Spike**\n",
    "\n",
    "Mountmend recorded strong sales of 190,081 units, yet its inventory increased by over 184,000 units during the same period — pushing its ending inventory to 531,404 units.\n",
    "\n",
    "With a turnover ratio of just **0.43**, this suggests that restocking may have outpaced actual demand, leading to potential overstocking.\n",
    "\n",
    "While the most stocked items include popular products like Integre Vodka, Grey Goose, and Bacardi, a review of Mountmend's supply strategy could help improve turnover and reduce holding costs.\n"
   ]
  },
  {
   "cell_type": "markdown",
   "id": "fe0524dd-fa32-436a-85f1-94acd4a06759",
   "metadata": {},
   "source": [
    "### ✅ Vendors with High Freight Cost (Top 10)"
   ]
  },
  {
   "cell_type": "code",
   "execution_count": 102,
   "id": "9697b265-40f8-4b77-999b-3d4d3b983c40",
   "metadata": {},
   "outputs": [
    {
     "name": "stderr",
     "output_type": "stream",
     "text": [
      "C:\\Users\\Admin\\AppData\\Local\\Temp\\ipykernel_29512\\3641803707.py:4: FutureWarning: \n",
      "\n",
      "Passing `palette` without assigning `hue` is deprecated and will be removed in v0.14.0. Assign the `y` variable to `hue` and set `legend=False` for the same effect.\n",
      "\n",
      "  sns.barplot(x=freight_cost.values, y=freight_cost.index, palette='flare')\n"
     ]
    },
    {
     "data": {
      "image/png": "[encoded data removed]",
      "text/plain": [
       "<Figure size 1000x600 with 1 Axes>"
      ]
     },
     "metadata": {},
     "output_type": "display_data"
    }
   ],
   "source": [
    "freight_cost = invoice_data.groupby('VendorName')['Freight'].sum().sort_values(ascending=False).head(10)\n",
    "\n",
    "plt.figure(figsize=(10,6))\n",
    "sns.barplot(x=freight_cost.values, y=freight_cost.index, palette='flare')\n",
    "plt.title('Top 10 Vendors by Freight Cost')\n",
    "plt.xlabel('Total Freight Cost ($)')\n",
    "plt.ylabel('Vendor Name')\n",
    "plt.tight_layout()\n",
    "plt.show()"
   ]
  },
  {
   "cell_type": "markdown",
   "id": "44113ed4-1558-4502-bf75-35a01b534695",
   "metadata": {},
   "source": [
    "🔍 **Insights:**\n",
    "\n",
    "This chart highlights vendors incurring the highest total freight costs, a significant operational expense.\n",
    "\n",
    "**\"DIAGEO NORTH AMERICA INC\"** accounts for the highest freight cost, indicating substantial logistical expenses for their deliveries.\n",
    "\n",
    "**\"MARTIGNETTI COMPANIES\"** and **\"JIM BEAM BRANDS COMPANY\"** also contribute significantly to freight costs.\n",
    "\n",
    "High freight costs can stem from factors like distance, volume, or inefficient shipping."
   ]
  },
  {
   "cell_type": "markdown",
   "id": "c73500a8-56b0-4e01-a6a2-211ca332ef31",
   "metadata": {},
   "source": [
    "### ✅ Products with High Average Excise Tax (Top 10)"
   ]
  },
  {
   "cell_type": "code",
   "execution_count": 104,
   "id": "eac17eb5-336c-41e7-a1de-5be83d31ad91",
   "metadata": {},
   "outputs": [
    {
     "name": "stderr",
     "output_type": "stream",
     "text": [
      "C:\\Users\\Admin\\AppData\\Local\\Temp\\ipykernel_29512\\3228901007.py:6: FutureWarning: \n",
      "\n",
      "Passing `palette` without assigning `hue` is deprecated and will be removed in v0.14.0. Assign the `y` variable to `hue` and set `legend=False` for the same effect.\n",
      "\n",
      "  sns.barplot(x=tax_by_product.values, y=tax_by_product.index, palette='mako')\n"
     ]
    },
    {
     "data": {
      "image/png": "[encoded data removed]",
      "text/plain": [
       "<Figure size 1000x600 with 1 Axes>"
      ]
     },
     "metadata": {},
     "output_type": "display_data"
    }
   ],
   "source": [
    "# Group by product and calculate average excise tax\n",
    "tax_by_product = sales_data.groupby('Description')['ExciseTax'].mean().sort_values(ascending=False).head(10)\n",
    "\n",
    "# Plot\n",
    "plt.figure(figsize=(10,6))\n",
    "sns.barplot(x=tax_by_product.values, y=tax_by_product.index, palette='mako')\n",
    "plt.title('Top 10 Products by Average Excise Tax')\n",
    "plt.xlabel('Average Excise Tax ($)')\n",
    "plt.ylabel('Product')\n",
    "plt.tight_layout()\n",
    "plt.show()"
   ]
  },
  {
   "cell_type": "markdown",
   "id": "b1687745-b626-47a6-9b36-685d0cdc06db",
   "metadata": {},
   "source": [
    "🔍 **Insights:**\n",
    "\n",
    "This chart identifies products with the highest average excise tax, impacting pricing and profitability.\n",
    "\n",
    "**\"S S Pierce Vodka,\"** **\"Gordons London Dry Gin,\"** and **\"From the Tank Red Keg\"** bear the highest average excise tax, likely due to product classification or regulations.\n",
    "\n",
    "High excise taxes directly influence product cost and require careful pricing strategies."
   ]
  },
  {
   "cell_type": "markdown",
   "id": "3c463aa6-173b-40b9-9ad7-c717106a4c63",
   "metadata": {},
   "source": [
    "## 📌 Summary & Insights"
   ]
  },
  {
   "cell_type": "markdown",
   "id": "124cd8e7-c6b0-4a57-8fe6-5dbfebc2f94e",
   "metadata": {},
   "source": [
    "- **Revenue Trends**: Accessories and Clothing contribute the highest share of total revenue, with Accessories slightly leading.\n",
    "- **Performance by Product Type**: While Books have lower total revenue, their average revenue per product is comparatively strong, suggesting fewer but more premium products.\n",
    "- **Recommendations**:\n",
    "  - Increase inventory or marketing around top-performing categories like Accessories.\n",
    "  - Consider promotions for underperforming segments such as Stationery or Home Decor.\n",
    "  - Investigate high-performing individual products in each category for further scaling."
   ]
  },
  {
   "cell_type": "markdown",
   "id": "a89afadd-a1f7-44eb-8619-535d72d47c54",
   "metadata": {},
   "source": [
    "Overall, this analysis provides actionable insights into which product types are most profitable and where strategic improvements can be made."
   ]
  }
 ],
 "metadata": {
  "kernelspec": {
   "display_name": "Python [conda env:base] *",
   "language": "python",
   "name": "conda-base-py"
  },
  "language_info": {
   "codemirror_mode": {
    "name": "ipython",
    "version": 3
   },
   "file_extension": ".py",
   "mimetype": "text/x-python",
   "name": "python",
   "nbconvert_exporter": "python",
   "pygments_lexer": "ipython3",
   "version": "3.12.7"
  }
 },
 "nbformat": 4,
 "nbformat_minor": 5
}
